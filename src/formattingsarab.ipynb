{
  "nbformat": 4,
  "nbformat_minor": 0,
  "metadata": {
    "colab": {
      "name": "formattingsarab.ipynb",
      "provenance": []
    },
    "kernelspec": {
      "name": "python3",
      "display_name": "Python 3"
    }
  },
  "cells": [
    {
      "cell_type": "code",
      "metadata": {
        "id": "acDvq7Rim52C"
      },
      "source": [
        "#install.packages(\"keras\")\r\n",
        "library(keras)\r\n"
      ],
      "execution_count": null,
      "outputs": []
    },
    {
      "cell_type": "code",
      "metadata": {
        "id": "CAHUW-AVrSc3"
      },
      "source": [
        "mnist <- dataset_mnist() # Load the MNIST dataset\r\n",
        "train_images <- mnist$train$x # create a 60,000x28x28 tensor for the training images\r\n",
        "train_labels <- mnist$train$y # create a 60,000-element vector for the training labels\r\n",
        "test_images <- mnist$test$x   # create a 10,000x28x28 tensor for the test images\r\n",
        "test_labels <- mnist$test$y   # create a 10,000-element vector for the test labels"
      ],
      "execution_count": null,
      "outputs": []
    },
    {
      "cell_type": "code",
      "metadata": {
        "id": "MP1Gbm7_rXAQ"
      },
      "source": [
        "str(train_images)"
      ],
      "execution_count": null,
      "outputs": []
    },
    {
      "cell_type": "code",
      "metadata": {
        "id": "u0WMuORDraZ3"
      },
      "source": [
        "str(train_labels)"
      ],
      "execution_count": null,
      "outputs": []
    },
    {
      "cell_type": "code",
      "metadata": {
        "id": "QU2CAoP-rftL"
      },
      "source": [
        "digit <- train_images[200,,]      # select the 200th training image\r\n",
        "plot(as.raster(digit, max = 255)) # plot it!\r\n"
      ],
      "execution_count": null,
      "outputs": []
    },
    {
      "cell_type": "code",
      "metadata": {
        "id": "CCWiuHBtrgk8"
      },
      "source": [
        "network <- keras_model_sequential() %>%  # create a linear stack of layers\r\n",
        "  layer_dense(units = 784, activation = \"relu\", input_shape = c(28 * 28)) %>%  # input layer\r\n",
        "  layer_dense(units = 512, activation = \"relu\") %>%                            # hidden layer\r\n",
        "  layer_dense(units = 10,  activation = \"softmax\")                            # output layer"
      ],
      "execution_count": null,
      "outputs": []
    },
    {
      "cell_type": "code",
      "metadata": {
        "id": "YOCxOT4Mrl1V"
      },
      "source": [
        "network %>% compile(\r\n",
        "  optimizer = \"rmsprop\",             # network will update itself based on the training data & loss\r\n",
        "  loss = \"categorical_crossentropy\", # measure mismatch between y_pred and y, calculated after each minibatch\r\n",
        "  metrics = c(\"accuracy\")            # measure of performace - correctly classified images\r\n",
        ")"
      ],
      "execution_count": null,
      "outputs": []
    },
    {
      "cell_type": "code",
      "metadata": {
        "id": "N8OJFMv-rqJ7"
      },
      "source": [
        "train_images <- array_reshape(train_images, c(60000, 28 * 28)) # Unfold each 28x28 image into a linear vector of 784. Train_images was an image cube, now it's a 2d matrix where each row is an image.\r\n",
        "train_images <- train_images / 255  # Normalize each element in the matrix to [0,1]\r\n",
        "\r\n",
        "test_images <- array_reshape(test_images, c(10000, 28 * 28)) # Do the same for the test images\r\n",
        "test_images <- test_images / 255\r\n",
        "\r\n",
        "dim(train_images) # Check to see that the dimensions are now correct"
      ],
      "execution_count": null,
      "outputs": []
    },
    {
      "cell_type": "code",
      "metadata": {
        "id": "0PBRP7VArqw0"
      },
      "source": [
        "# The dimensions of our y labels need to match the dimensions of our output layer\r\n",
        "train_labels <- to_categorical(train_labels) # makes key-value boolean dummy vars out of numerical vectors\r\n",
        "test_labels <- to_categorical(test_labels)   # do the same with the test labels\r\n",
        "\r\n",
        "dim(train_labels)"
      ],
      "execution_count": null,
      "outputs": []
    },
    {
      "cell_type": "code",
      "metadata": {
        "id": "nh1rPa0Urt_5"
      },
      "source": [
        "dim(test_labels)\r\n",
        "## [1] 10000    10"
      ],
      "execution_count": null,
      "outputs": []
    },
    {
      "cell_type": "code",
      "metadata": {
        "id": "txyy3OXRrwuc"
      },
      "source": [
        "history <- network %>% fit(train_images, train_labels, epochs = 20, batch_size = 1000, validation_split = 0.1)"
      ],
      "execution_count": null,
      "outputs": []
    },
    {
      "cell_type": "code",
      "metadata": {
        "id": "-lGzdLhAsQqw"
      },
      "source": [
        "plot(history)"
      ],
      "execution_count": null,
      "outputs": []
    },
    {
      "cell_type": "code",
      "metadata": {
        "id": "uoFidLljsS1P"
      },
      "source": [
        "network %>% predict_classes(test_images[1:10,]) # display the predicted category for the first ten test images"
      ],
      "execution_count": null,
      "outputs": []
    },
    {
      "cell_type": "code",
      "metadata": {
        "id": "UWqPVet0sYGV"
      },
      "source": [
        "mnist$test$y[1:10] # display the actual labels for the first ten test images (subtract one from the array index to get the predicted value)"
      ],
      "execution_count": null,
      "outputs": []
    },
    {
      "cell_type": "code",
      "metadata": {
        "id": "aOdnan5hsaIT"
      },
      "source": [
        "network %>% evaluate(test_images, test_labels)"
      ],
      "execution_count": null,
      "outputs": []
    },
    {
      "cell_type": "code",
      "metadata": {
        "id": "cyIzzGzVscl1"
      },
      "source": [
        "network2 <- keras_model_sequential()\r\n",
        "network2 %>% \r\n",
        "  layer_dense(units = 512, activation = \"relu\", input_shape = c(28*28)) %>%\r\n",
        "  layer_dropout(rate = 0.4) %>%\r\n",
        "  layer_dense(units = 512, activation = \"relu\") %>%\r\n",
        "  layer_dropout(rate = 0.3) %>%\r\n",
        "  layer_dense(units = 512, activation = \"relu\") %>%  # new layer\r\n",
        "  layer_dropout(rate = 0.2) %>%\r\n",
        "  layer_dense(units = 10, activation = \"softmax\")\r\n",
        "\r\n",
        "network2 %>% compile(\r\n",
        "  optimizer = \"rmsprop\", \r\n",
        "  loss = \"categorical_crossentropy\", \r\n",
        "  metrics = c(\"accuracy\")) "
      ],
      "execution_count": null,
      "outputs": []
    },
    {
      "cell_type": "code",
      "metadata": {
        "id": "VHk77Jmuse7e"
      },
      "source": [
        "history <- network2 %>% fit(train_images, train_labels, \r\n",
        "                            epochs = 20, batch_size = 1000, \r\n",
        "                            validation_split = 0.1)"
      ],
      "execution_count": null,
      "outputs": []
    },
    {
      "cell_type": "code",
      "metadata": {
        "id": "nqZOeQAQsiXe"
      },
      "source": [
        "network2 %>% evaluate(test_images, test_labels) # run the model on the full test set"
      ],
      "execution_count": null,
      "outputs": []
    }
  ]
}