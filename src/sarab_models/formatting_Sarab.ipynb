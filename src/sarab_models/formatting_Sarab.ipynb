{
  "nbformat": 4,
  "nbformat_minor": 0,
  "metadata": {
    "colab": {
      "name": "Untitled0.ipynb",
      "provenance": []
    },
    "kernelspec": {
      "name": "python3",
      "display_name": "Python 3"
    }
  },
  "cells": [
    {
      "cell_type": "code",
      "metadata": {
        "colab": {
          "base_uri": "https://localhost:8080/",
          "height": 130
        },
        "id": "XxiCNFeAneYQ",
        "outputId": "50f79505-16f9-4b46-fe3e-282babed45ff"
      },
      "source": [
        "image = imread(image_filepath)\n",
        "normalized_image = image / 255.0 # so you have a 0-1 range of values\n",
        "if image_not_square:\n",
        "# add padding values to the shorter side of the image in order to make it a square and not distort it when resized later\n",
        "image = pad_image_to_square(image)\n",
        "grayscale_image = image.dot([0.07, 0.72, 0.21]) # this takes an rgb image and converts it to grayscale\n",
        "binary_image = threshold_image(grayscale_image) # a function that takes a grayscale image and converts the pixels to 0 or 1 based on wether they are > or < than 0.5\n",
        "final_image = resize_image(image, (28, 28))"
      ],
      "execution_count": 1,
      "outputs": [
        {
          "output_type": "error",
          "ename": "IndentationError",
          "evalue": "ignored",
          "traceback": [
            "\u001b[0;36m  File \u001b[0;32m\"<ipython-input-1-8b3c8dc8cabe>\"\u001b[0;36m, line \u001b[0;32m5\u001b[0m\n\u001b[0;31m    image = pad_image_to_square(image)\u001b[0m\n\u001b[0m        ^\u001b[0m\n\u001b[0;31mIndentationError\u001b[0m\u001b[0;31m:\u001b[0m expected an indented block\n"
          ]
        }
      ]
    }
  ]
}