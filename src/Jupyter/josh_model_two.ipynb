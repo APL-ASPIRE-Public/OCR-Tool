{
  "nbformat": 4,
  "nbformat_minor": 0,
  "metadata": {
    "colab": {
      "name": "josh_model_two.ipynb",
      "provenance": []
    },
    "kernelspec": {
      "name": "python3",
      "display_name": "Python 3"
    }
  },
  "cells": [
    {
      "cell_type": "code",
      "metadata": {
        "id": "c5aoqA1O_1Xj"
      },
      "source": [
        "%tensorflow_version 2.x\n",
        "from __future__ import absolute_import, division, print_function, unicode_literals"
      ],
      "execution_count": 1,
      "outputs": []
    },
    {
      "cell_type": "code",
      "metadata": {
        "colab": {
          "base_uri": "https://localhost:8080/"
        },
        "id": "i4-j8DNOBCCi",
        "outputId": "8fbbc671-8301-4793-f871-1ebce4884239"
      },
      "source": [
        "#@title Import relevant modules\n",
        "import numpy as np\n",
        "import pandas as pd\n",
        "import tensorflow as tf\n",
        "from tensorflow.keras import layers\n",
        "from matplotlib import pyplot as plt\n",
        "\n",
        "pd.options.display.max_rows = 10\n",
        "pd.options.display.float_format = \"{:.1f}\".format\n",
        "\n",
        "np.set_printoptions(linewidth = 200)\n",
        "\n",
        "(x_train, y_train),(x_test, y_test) = tf.keras.datasets.mnist.load_data()\n",
        "\n",
        "x_train_normalized = x_train / 255\n",
        "x_test_normalized = x_test / 255\n",
        "\n",
        "def plot_curve(epochs, hist, list_of_metrics):\n",
        "  \"\"\"Plot a curve of one or more classification metrics vs. epoch.\"\"\"  \n",
        "  \n",
        "  plt.figure()\n",
        "  plt.xlabel(\"Epoch\")\n",
        "  plt.ylabel(\"Value\")\n",
        "\n",
        "  for m in list_of_metrics:\n",
        "    x = hist[m]\n",
        "    plt.plot(epochs[1:], x[1:], label=m)\n",
        "\n",
        "  plt.legend()\n",
        "\n",
        "print(\"Loaded the plot_curve function.\")"
      ],
      "execution_count": 2,
      "outputs": [
        {
          "output_type": "stream",
          "text": [
            "Downloading data from https://storage.googleapis.com/tensorflow/tf-keras-datasets/mnist.npz\n",
            "11493376/11490434 [==============================] - 0s 0us/step\n",
            "Loaded the plot_curve function.\n"
          ],
          "name": "stdout"
        }
      ]
    },
    {
      "cell_type": "code",
      "metadata": {
        "id": "nijMYKoqB8K8"
      },
      "source": [
        "def create_model(my_learning_rate):\n",
        "  \"\"\"Create and compile a deep neural net.\"\"\"\n",
        "  \n",
        "  # All models in this course are sequential.\n",
        "  model = tf.keras.models.Sequential()\n",
        "\n",
        "  model.add(tf.keras.layers.Flatten(input_shape=(28, 28)))\n",
        "\n",
        "#first layer\n",
        "  model.add(tf.keras.layers.Dense(units= 65, activation= 'tanh'))\n",
        "   \n",
        "#second layer\n",
        "  model.add(tf.keras.layers.Dense(units= 25))\n",
        "\n",
        "\n",
        "  model.add(tf.keras.layers.Dropout(rate=0.2))\n",
        "\n",
        "\n",
        "  # Don't change this layer.\n",
        "  model.add(tf.keras.layers.Dense(units=10, activation='softmax'))     \n",
        "                             \n",
        "  model.compile(optimizer=tf.keras.optimizers.Adam(lr=my_learning_rate),\n",
        "                loss=\"sparse_categorical_crossentropy\",\n",
        "                metrics=['accuracy'])\n",
        "  \n",
        "  return model    \n",
        "\n",
        "\n",
        "def train_model(model, train_features, train_label, epochs,\n",
        "                batch_size=None, validation_split=0.1):\n",
        "  \"\"\"Train the model by feeding it data.\"\"\"\n",
        "\n",
        "  history = model.fit(x=train_features, y=train_label, batch_size=batch_size,\n",
        "                      epochs=epochs, shuffle=True, \n",
        "                      validation_split=validation_split)\n",
        "  epochs = history.epoch\n",
        "  hist = pd.DataFrame(history.history)\n",
        "\n",
        "  return epochs, hist    "
      ],
      "execution_count": 31,
      "outputs": []
    },
    {
      "cell_type": "code",
      "metadata": {
        "colab": {
          "base_uri": "https://localhost:8080/",
          "height": 1000
        },
        "id": "Rt79_nUtECkY",
        "outputId": "7f0b8006-0e67-4154-d884-60cde784fa9d"
      },
      "source": [
        "# The following variables are the hyperparameters.\n",
        "learning_rate = 0.004\n",
        "epochs = 50\n",
        "batch_size = 4000\n",
        "validation_split = 0.25\n",
        "\n",
        "my_model = create_model(learning_rate)\n",
        "\n",
        "epochs, hist = train_model(my_model, x_train_normalized, y_train, \n",
        "                           epochs, batch_size, validation_split)\n",
        "\n",
        "list_of_metrics_to_plot = ['accuracy']\n",
        "plot_curve(epochs, hist, list_of_metrics_to_plot)\n",
        "\n",
        "# Evaluate against the test set.\n",
        "print(\"\\n Evaluate the new model against the test set:\")\n",
        "my_model.evaluate(x=x_test_normalized, y=y_test, batch_size=batch_size)"
      ],
      "execution_count": 32,
      "outputs": [
        {
          "output_type": "stream",
          "text": [
            "Epoch 1/50\n",
            "12/12 [==============================] - 1s 56ms/step - loss: 1.5475 - accuracy: 0.5107 - val_loss: 0.4933 - val_accuracy: 0.8621\n",
            "Epoch 2/50\n",
            "12/12 [==============================] - 0s 42ms/step - loss: 0.5367 - accuracy: 0.8395 - val_loss: 0.3627 - val_accuracy: 0.8939\n",
            "Epoch 3/50\n",
            "12/12 [==============================] - 0s 42ms/step - loss: 0.4116 - accuracy: 0.8785 - val_loss: 0.3104 - val_accuracy: 0.9117\n",
            "Epoch 4/50\n",
            "12/12 [==============================] - 0s 42ms/step - loss: 0.3628 - accuracy: 0.8936 - val_loss: 0.2757 - val_accuracy: 0.9197\n",
            "Epoch 5/50\n",
            "12/12 [==============================] - 1s 43ms/step - loss: 0.3199 - accuracy: 0.9091 - val_loss: 0.2539 - val_accuracy: 0.9258\n",
            "Epoch 6/50\n",
            "12/12 [==============================] - 1s 44ms/step - loss: 0.2766 - accuracy: 0.9192 - val_loss: 0.2361 - val_accuracy: 0.9315\n",
            "Epoch 7/50\n",
            "12/12 [==============================] - 1s 44ms/step - loss: 0.2607 - accuracy: 0.9245 - val_loss: 0.2186 - val_accuracy: 0.9379\n",
            "Epoch 8/50\n",
            "12/12 [==============================] - 1s 45ms/step - loss: 0.2347 - accuracy: 0.9348 - val_loss: 0.2036 - val_accuracy: 0.9429\n",
            "Epoch 9/50\n",
            "12/12 [==============================] - 1s 44ms/step - loss: 0.2125 - accuracy: 0.9383 - val_loss: 0.1943 - val_accuracy: 0.9455\n",
            "Epoch 10/50\n",
            "12/12 [==============================] - 1s 44ms/step - loss: 0.1985 - accuracy: 0.9427 - val_loss: 0.1851 - val_accuracy: 0.9467\n",
            "Epoch 11/50\n",
            "12/12 [==============================] - 1s 43ms/step - loss: 0.1834 - accuracy: 0.9467 - val_loss: 0.1760 - val_accuracy: 0.9493\n",
            "Epoch 12/50\n",
            "12/12 [==============================] - 1s 43ms/step - loss: 0.1683 - accuracy: 0.9518 - val_loss: 0.1687 - val_accuracy: 0.9520\n",
            "Epoch 13/50\n",
            "12/12 [==============================] - 1s 43ms/step - loss: 0.1557 - accuracy: 0.9553 - val_loss: 0.1628 - val_accuracy: 0.9535\n",
            "Epoch 14/50\n",
            "12/12 [==============================] - 1s 55ms/step - loss: 0.1504 - accuracy: 0.9570 - val_loss: 0.1557 - val_accuracy: 0.9557\n",
            "Epoch 15/50\n",
            "12/12 [==============================] - 1s 43ms/step - loss: 0.1371 - accuracy: 0.9599 - val_loss: 0.1545 - val_accuracy: 0.9563\n",
            "Epoch 16/50\n",
            "12/12 [==============================] - 0s 42ms/step - loss: 0.1242 - accuracy: 0.9642 - val_loss: 0.1485 - val_accuracy: 0.9569\n",
            "Epoch 17/50\n",
            "12/12 [==============================] - 0s 42ms/step - loss: 0.1247 - accuracy: 0.9636 - val_loss: 0.1436 - val_accuracy: 0.9595\n",
            "Epoch 18/50\n",
            "12/12 [==============================] - 0s 42ms/step - loss: 0.1131 - accuracy: 0.9675 - val_loss: 0.1390 - val_accuracy: 0.9601\n",
            "Epoch 19/50\n",
            "12/12 [==============================] - 0s 42ms/step - loss: 0.1052 - accuracy: 0.9691 - val_loss: 0.1371 - val_accuracy: 0.9603\n",
            "Epoch 20/50\n",
            "12/12 [==============================] - 1s 42ms/step - loss: 0.1025 - accuracy: 0.9704 - val_loss: 0.1322 - val_accuracy: 0.9622\n",
            "Epoch 21/50\n",
            "12/12 [==============================] - 1s 42ms/step - loss: 0.0920 - accuracy: 0.9733 - val_loss: 0.1296 - val_accuracy: 0.9633\n",
            "Epoch 22/50\n",
            "12/12 [==============================] - 1s 43ms/step - loss: 0.0912 - accuracy: 0.9741 - val_loss: 0.1297 - val_accuracy: 0.9629\n",
            "Epoch 23/50\n",
            "12/12 [==============================] - 1s 42ms/step - loss: 0.0838 - accuracy: 0.9763 - val_loss: 0.1297 - val_accuracy: 0.9627\n",
            "Epoch 24/50\n",
            "12/12 [==============================] - 1s 42ms/step - loss: 0.0802 - accuracy: 0.9763 - val_loss: 0.1248 - val_accuracy: 0.9637\n",
            "Epoch 25/50\n",
            "12/12 [==============================] - 1s 43ms/step - loss: 0.0754 - accuracy: 0.9785 - val_loss: 0.1244 - val_accuracy: 0.9641\n",
            "Epoch 26/50\n",
            "12/12 [==============================] - 0s 42ms/step - loss: 0.0699 - accuracy: 0.9789 - val_loss: 0.1238 - val_accuracy: 0.9641\n",
            "Epoch 27/50\n",
            "12/12 [==============================] - 1s 43ms/step - loss: 0.0651 - accuracy: 0.9813 - val_loss: 0.1212 - val_accuracy: 0.9657\n",
            "Epoch 28/50\n",
            "12/12 [==============================] - 0s 42ms/step - loss: 0.0631 - accuracy: 0.9818 - val_loss: 0.1201 - val_accuracy: 0.9667\n",
            "Epoch 29/50\n",
            "12/12 [==============================] - 1s 43ms/step - loss: 0.0612 - accuracy: 0.9817 - val_loss: 0.1193 - val_accuracy: 0.9667\n",
            "Epoch 30/50\n",
            "12/12 [==============================] - 1s 43ms/step - loss: 0.0549 - accuracy: 0.9841 - val_loss: 0.1186 - val_accuracy: 0.9665\n",
            "Epoch 31/50\n",
            "12/12 [==============================] - 1s 44ms/step - loss: 0.0535 - accuracy: 0.9847 - val_loss: 0.1217 - val_accuracy: 0.9660\n",
            "Epoch 32/50\n",
            "12/12 [==============================] - 1s 43ms/step - loss: 0.0509 - accuracy: 0.9853 - val_loss: 0.1197 - val_accuracy: 0.9669\n",
            "Epoch 33/50\n",
            "12/12 [==============================] - 1s 43ms/step - loss: 0.0489 - accuracy: 0.9861 - val_loss: 0.1185 - val_accuracy: 0.9672\n",
            "Epoch 34/50\n",
            "12/12 [==============================] - 1s 52ms/step - loss: 0.0446 - accuracy: 0.9867 - val_loss: 0.1244 - val_accuracy: 0.9662\n",
            "Epoch 35/50\n",
            "12/12 [==============================] - 0s 41ms/step - loss: 0.0464 - accuracy: 0.9858 - val_loss: 0.1216 - val_accuracy: 0.9671\n",
            "Epoch 36/50\n",
            "12/12 [==============================] - 0s 42ms/step - loss: 0.0435 - accuracy: 0.9865 - val_loss: 0.1246 - val_accuracy: 0.9655\n",
            "Epoch 37/50\n",
            "12/12 [==============================] - 1s 42ms/step - loss: 0.0424 - accuracy: 0.9874 - val_loss: 0.1228 - val_accuracy: 0.9663\n",
            "Epoch 38/50\n",
            "12/12 [==============================] - 1s 43ms/step - loss: 0.0384 - accuracy: 0.9890 - val_loss: 0.1209 - val_accuracy: 0.9675\n",
            "Epoch 39/50\n",
            "12/12 [==============================] - 1s 42ms/step - loss: 0.0349 - accuracy: 0.9901 - val_loss: 0.1232 - val_accuracy: 0.9675\n",
            "Epoch 40/50\n",
            "12/12 [==============================] - 0s 42ms/step - loss: 0.0360 - accuracy: 0.9889 - val_loss: 0.1224 - val_accuracy: 0.9679\n",
            "Epoch 41/50\n",
            "12/12 [==============================] - 1s 43ms/step - loss: 0.0330 - accuracy: 0.9899 - val_loss: 0.1227 - val_accuracy: 0.9683\n",
            "Epoch 42/50\n",
            "12/12 [==============================] - 1s 42ms/step - loss: 0.0317 - accuracy: 0.9912 - val_loss: 0.1244 - val_accuracy: 0.9687\n",
            "Epoch 43/50\n",
            "12/12 [==============================] - 1s 42ms/step - loss: 0.0297 - accuracy: 0.9917 - val_loss: 0.1235 - val_accuracy: 0.9683\n",
            "Epoch 44/50\n",
            "12/12 [==============================] - 0s 42ms/step - loss: 0.0294 - accuracy: 0.9918 - val_loss: 0.1257 - val_accuracy: 0.9683\n",
            "Epoch 45/50\n",
            "12/12 [==============================] - 1s 42ms/step - loss: 0.0268 - accuracy: 0.9924 - val_loss: 0.1272 - val_accuracy: 0.9677\n",
            "Epoch 46/50\n",
            "12/12 [==============================] - 0s 42ms/step - loss: 0.0261 - accuracy: 0.9925 - val_loss: 0.1269 - val_accuracy: 0.9677\n",
            "Epoch 47/50\n",
            "12/12 [==============================] - 1s 42ms/step - loss: 0.0253 - accuracy: 0.9925 - val_loss: 0.1260 - val_accuracy: 0.9684\n",
            "Epoch 48/50\n",
            "12/12 [==============================] - 0s 42ms/step - loss: 0.0236 - accuracy: 0.9935 - val_loss: 0.1276 - val_accuracy: 0.9679\n",
            "Epoch 49/50\n",
            "12/12 [==============================] - 1s 42ms/step - loss: 0.0226 - accuracy: 0.9944 - val_loss: 0.1255 - val_accuracy: 0.9696\n",
            "Epoch 50/50\n",
            "12/12 [==============================] - 0s 41ms/step - loss: 0.0201 - accuracy: 0.9946 - val_loss: 0.1291 - val_accuracy: 0.9686\n",
            "\n",
            " Evaluate the new model against the test set:\n",
            "3/3 [==============================] - 0s 12ms/step - loss: 0.1131 - accuracy: 0.9724\n"
          ],
          "name": "stdout"
        },
        {
          "output_type": "execute_result",
          "data": {
            "text/plain": [
              "[0.1131325215101242, 0.9724000096321106]"
            ]
          },
          "metadata": {
            "tags": []
          },
          "execution_count": 32
        },
        {
          "output_type": "display_data",
          "data": {
            "image/png": "[encoded data removed]",
            "text/plain": [
              "<Figure size 432x288 with 1 Axes>"
            ]
          },
          "metadata": {
            "tags": [],
            "needs_background": "light"
          }
        }
      ]
    }
  ]
}