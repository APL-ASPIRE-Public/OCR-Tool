{
 "cells": [
  {
   "cell_type": "code",
   "execution_count": 1,
   "metadata": {
    "cellView": "form",
    "id": "c5aoqA1O_1Xj"
   },
   "outputs": [],
   "source": [
    "#@title Get Tensorflow\n",
    "%tensorflow_version 2.x\n",
    "from __future__ import absolute_import, division, print_function, unicode_literals"
   ]
  },
  {
   "cell_type": "code",
   "execution_count": 2,
   "metadata": {
    "cellView": "form",
    "colab": {
     "base_uri": "https://localhost:8080/"
    },
    "id": "i4-j8DNOBCCi",
    "outputId": "1a29103b-651c-42f5-b895-6820eeec5fe4"
   },
   "outputs": [
    {
     "name": "stdout",
     "output_type": "stream",
     "text": [
      "Downloading data from https://storage.googleapis.com/tensorflow/tf-keras-datasets/mnist.npz\n",
      "11493376/11490434 [==============================] - 0s 0us/step\n",
      "Loaded the plot_curve function.\n"
     ]
    }
   ],
   "source": [
    "#@title Defining plot-curve and importing necessities\n",
    "import numpy as np\n",
    "import pandas as pd\n",
    "import tensorflow as tf\n",
    "from tensorflow.keras import layers\n",
    "from matplotlib import pyplot as plt\n",
    "from keras.preprocessing.image import load_img\n",
    "from keras.preprocessing.image import img_to_array\n",
    "\n",
    "\n",
    "pd.options.display.max_rows = 10\n",
    "pd.options.display.float_format = \"{:.1f}\".format\n",
    "\n",
    "np.set_printoptions(linewidth = 200)\n",
    "\n",
    "(x_train, y_train),(x_test, y_test) = tf.keras.datasets.mnist.load_data()\n",
    "\n",
    "x_train_normalized = x_train / 255\n",
    "x_test_normalized = x_test / 255\n",
    "\n",
    "def plot_curve(epochs, hist, list_of_metrics):\n",
    "  \"\"\"Plot a curve of one or more classification metrics vs. epoch.\"\"\"  \n",
    "  \n",
    "  plt.figure()\n",
    "  plt.xlabel(\"Epoch\")\n",
    "  plt.ylabel(\"Value\")\n",
    "\n",
    "  for m in list_of_metrics:\n",
    "    x = hist[m]\n",
    "    plt.plot(epochs[1:], x[1:], label=m)\n",
    "\n",
    "  plt.legend()\n",
    "\n",
    "print(\"Loaded the plot_curve function.\")"
   ]
  },
  {
   "cell_type": "code",
   "execution_count": null,
   "metadata": {},
   "outputs": [],
   "source": []
  },
  {
   "cell_type": "code",
   "execution_count": 38,
   "metadata": {
    "id": "nijMYKoqB8K8"
   },
   "outputs": [],
   "source": [
    "#@title Defining the model creation\n",
    "def create_model(my_learning_rate):\n",
    "  \"\"\"Create and compile a deep neural net.\"\"\"\n",
    "  \n",
    "  # All models in this course are sequential.\n",
    "  model = tf.keras.models.Sequential()\n",
    "\n",
    "  model.add(tf.keras.layers.Flatten(input_shape=(28, 28)))\n",
    "\n",
    "#first layer\n",
    "  model.add(tf.keras.layers.Dense(units= 65, activation= 'relu'))\n",
    "   \n",
    "#second layer\n",
    "  model.add(tf.keras.layers.Dense(units= 35 , activation = 'relu'))\n",
    "\n",
    "#third layer\n",
    "  model.add(tf.keras.layers.Dense(units= 27 , activation = 'relu'))\n",
    "\n",
    "\n",
    "  model.add(tf.keras.layers.Dropout(rate=0.2))\n",
    "\n",
    "\n",
    "  model.add(tf.keras.layers.Dense(units=10, activation='softmax'))     \n",
    "                             \n",
    "  model.compile(optimizer=tf.keras.optimizers.Adam(lr=my_learning_rate),\n",
    "                loss=\"sparse_categorical_crossentropy\",\n",
    "                metrics=['accuracy'])\n",
    "  \n",
    "  return model    \n",
    "\n",
    "\n",
    "def train_model(model, train_features, train_label, epochs,\n",
    "                batch_size=None, validation_split=0.1):\n",
    "  \"\"\"Train the model by feeding it data.\"\"\"\n",
    "\n",
    "  history = model.fit(x=train_features, y=train_label, batch_size=batch_size,\n",
    "                      epochs=epochs, shuffle=True, \n",
    "                      validation_split=validation_split)\n",
    "  epochs = history.epoch\n",
    "  hist = pd.DataFrame(history.history)\n",
    "\n",
    "  return epochs, hist    "
   ]
  },
  {
   "cell_type": "code",
   "execution_count": 40,
   "metadata": {
    "colab": {
     "base_uri": "https://localhost:8080/",
     "height": 1000
    },
    "id": "Rt79_nUtECkY",
    "outputId": "4e4c273d-59c3-454a-f771-8f1c3b302a1f"
   },
   "outputs": [
    {
     "name": "stdout",
     "output_type": "stream",
     "text": [
      "Epoch 1/50\n",
      "12/12 [==============================] - 1s 59ms/step - loss: 1.9050 - accuracy: 0.3374 - val_loss: 0.6344 - val_accuracy: 0.8269\n",
      "Epoch 2/50\n",
      "12/12 [==============================] - 1s 43ms/step - loss: 0.7322 - accuracy: 0.7629 - val_loss: 0.3690 - val_accuracy: 0.8945\n",
      "Epoch 3/50\n",
      "12/12 [==============================] - 1s 45ms/step - loss: 0.4572 - accuracy: 0.8651 - val_loss: 0.2768 - val_accuracy: 0.9199\n",
      "Epoch 4/50\n",
      "12/12 [==============================] - 1s 42ms/step - loss: 0.3519 - accuracy: 0.8989 - val_loss: 0.2356 - val_accuracy: 0.9307\n",
      "Epoch 5/50\n",
      "12/12 [==============================] - 1s 44ms/step - loss: 0.2903 - accuracy: 0.9183 - val_loss: 0.2116 - val_accuracy: 0.9375\n",
      "Epoch 6/50\n",
      "12/12 [==============================] - 1s 42ms/step - loss: 0.2423 - accuracy: 0.9307 - val_loss: 0.1898 - val_accuracy: 0.9441\n",
      "Epoch 7/50\n",
      "12/12 [==============================] - 1s 43ms/step - loss: 0.2210 - accuracy: 0.9365 - val_loss: 0.1786 - val_accuracy: 0.9472\n",
      "Epoch 8/50\n",
      "12/12 [==============================] - 1s 44ms/step - loss: 0.1925 - accuracy: 0.9452 - val_loss: 0.1632 - val_accuracy: 0.9533\n",
      "Epoch 9/50\n",
      "12/12 [==============================] - 1s 44ms/step - loss: 0.1756 - accuracy: 0.9496 - val_loss: 0.1571 - val_accuracy: 0.9550\n",
      "Epoch 10/50\n",
      "12/12 [==============================] - 1s 43ms/step - loss: 0.1582 - accuracy: 0.9546 - val_loss: 0.1649 - val_accuracy: 0.9511\n",
      "Epoch 11/50\n",
      "12/12 [==============================] - 1s 44ms/step - loss: 0.1556 - accuracy: 0.9557 - val_loss: 0.1449 - val_accuracy: 0.9581\n",
      "Epoch 12/50\n",
      "12/12 [==============================] - 1s 43ms/step - loss: 0.1343 - accuracy: 0.9609 - val_loss: 0.1453 - val_accuracy: 0.9597\n",
      "Epoch 13/50\n",
      "12/12 [==============================] - 1s 44ms/step - loss: 0.1289 - accuracy: 0.9631 - val_loss: 0.1433 - val_accuracy: 0.9595\n",
      "Epoch 14/50\n",
      "12/12 [==============================] - 1s 43ms/step - loss: 0.1169 - accuracy: 0.9669 - val_loss: 0.1357 - val_accuracy: 0.9615\n",
      "Epoch 15/50\n",
      "12/12 [==============================] - 1s 56ms/step - loss: 0.1099 - accuracy: 0.9688 - val_loss: 0.1473 - val_accuracy: 0.9610\n",
      "Epoch 16/50\n",
      "12/12 [==============================] - 1s 43ms/step - loss: 0.1082 - accuracy: 0.9679 - val_loss: 0.1372 - val_accuracy: 0.9621\n",
      "Epoch 17/50\n",
      "12/12 [==============================] - 1s 46ms/step - loss: 0.0927 - accuracy: 0.9733 - val_loss: 0.1290 - val_accuracy: 0.9648\n",
      "Epoch 18/50\n",
      "12/12 [==============================] - 1s 44ms/step - loss: 0.0855 - accuracy: 0.9754 - val_loss: 0.1297 - val_accuracy: 0.9659\n",
      "Epoch 19/50\n",
      "12/12 [==============================] - 1s 43ms/step - loss: 0.0812 - accuracy: 0.9771 - val_loss: 0.1270 - val_accuracy: 0.9668\n",
      "Epoch 20/50\n",
      "12/12 [==============================] - 1s 44ms/step - loss: 0.0793 - accuracy: 0.9777 - val_loss: 0.1337 - val_accuracy: 0.9655\n",
      "Epoch 21/50\n",
      "12/12 [==============================] - 1s 43ms/step - loss: 0.0794 - accuracy: 0.9764 - val_loss: 0.1374 - val_accuracy: 0.9647\n",
      "Epoch 22/50\n",
      "12/12 [==============================] - 1s 44ms/step - loss: 0.0755 - accuracy: 0.9783 - val_loss: 0.1305 - val_accuracy: 0.9657\n",
      "Epoch 23/50\n",
      "12/12 [==============================] - 1s 44ms/step - loss: 0.0673 - accuracy: 0.9801 - val_loss: 0.1291 - val_accuracy: 0.9658\n",
      "Epoch 24/50\n",
      "12/12 [==============================] - 1s 44ms/step - loss: 0.0618 - accuracy: 0.9815 - val_loss: 0.1345 - val_accuracy: 0.9663\n",
      "Epoch 25/50\n",
      "12/12 [==============================] - 1s 44ms/step - loss: 0.0594 - accuracy: 0.9824 - val_loss: 0.1265 - val_accuracy: 0.9679\n",
      "Epoch 26/50\n",
      "12/12 [==============================] - 1s 44ms/step - loss: 0.0578 - accuracy: 0.9824 - val_loss: 0.1297 - val_accuracy: 0.9667\n",
      "Epoch 27/50\n",
      "12/12 [==============================] - 1s 44ms/step - loss: 0.0540 - accuracy: 0.9841 - val_loss: 0.1383 - val_accuracy: 0.9654\n",
      "Epoch 28/50\n",
      "12/12 [==============================] - 1s 44ms/step - loss: 0.0547 - accuracy: 0.9832 - val_loss: 0.1350 - val_accuracy: 0.9671\n",
      "Epoch 29/50\n",
      "12/12 [==============================] - 1s 44ms/step - loss: 0.0499 - accuracy: 0.9856 - val_loss: 0.1328 - val_accuracy: 0.9680\n",
      "Epoch 30/50\n",
      "12/12 [==============================] - 1s 44ms/step - loss: 0.0413 - accuracy: 0.9880 - val_loss: 0.1386 - val_accuracy: 0.9673\n",
      "Epoch 31/50\n",
      "12/12 [==============================] - 1s 43ms/step - loss: 0.0431 - accuracy: 0.9875 - val_loss: 0.1413 - val_accuracy: 0.9669\n",
      "Epoch 32/50\n",
      "12/12 [==============================] - 1s 44ms/step - loss: 0.0415 - accuracy: 0.9879 - val_loss: 0.1402 - val_accuracy: 0.9675\n",
      "Epoch 33/50\n",
      "12/12 [==============================] - 1s 43ms/step - loss: 0.0383 - accuracy: 0.9889 - val_loss: 0.1448 - val_accuracy: 0.9665\n",
      "Epoch 34/50\n",
      "12/12 [==============================] - 1s 44ms/step - loss: 0.0369 - accuracy: 0.9885 - val_loss: 0.1400 - val_accuracy: 0.9687\n",
      "Epoch 35/50\n",
      "12/12 [==============================] - 1s 53ms/step - loss: 0.0392 - accuracy: 0.9878 - val_loss: 0.1477 - val_accuracy: 0.9658\n",
      "Epoch 36/50\n",
      "12/12 [==============================] - 1s 45ms/step - loss: 0.0354 - accuracy: 0.9893 - val_loss: 0.1508 - val_accuracy: 0.9666\n",
      "Epoch 37/50\n",
      "12/12 [==============================] - 1s 45ms/step - loss: 0.0336 - accuracy: 0.9901 - val_loss: 0.1487 - val_accuracy: 0.9677\n",
      "Epoch 38/50\n",
      "12/12 [==============================] - 1s 43ms/step - loss: 0.0340 - accuracy: 0.9893 - val_loss: 0.1475 - val_accuracy: 0.9679\n",
      "Epoch 39/50\n",
      "12/12 [==============================] - 1s 44ms/step - loss: 0.0292 - accuracy: 0.9912 - val_loss: 0.1459 - val_accuracy: 0.9686\n",
      "Epoch 40/50\n",
      "12/12 [==============================] - 1s 44ms/step - loss: 0.0272 - accuracy: 0.9919 - val_loss: 0.1478 - val_accuracy: 0.9686\n",
      "Epoch 41/50\n",
      "12/12 [==============================] - 1s 43ms/step - loss: 0.0259 - accuracy: 0.9918 - val_loss: 0.1535 - val_accuracy: 0.9687\n",
      "Epoch 42/50\n",
      "12/12 [==============================] - 1s 44ms/step - loss: 0.0238 - accuracy: 0.9929 - val_loss: 0.1503 - val_accuracy: 0.9677\n",
      "Epoch 43/50\n",
      "12/12 [==============================] - 1s 43ms/step - loss: 0.0247 - accuracy: 0.9925 - val_loss: 0.1572 - val_accuracy: 0.9683\n",
      "Epoch 44/50\n",
      "12/12 [==============================] - 1s 43ms/step - loss: 0.0235 - accuracy: 0.9935 - val_loss: 0.1586 - val_accuracy: 0.9692\n",
      "Epoch 45/50\n",
      "12/12 [==============================] - 1s 43ms/step - loss: 0.0213 - accuracy: 0.9931 - val_loss: 0.1604 - val_accuracy: 0.9669\n",
      "Epoch 46/50\n",
      "12/12 [==============================] - 1s 44ms/step - loss: 0.0205 - accuracy: 0.9937 - val_loss: 0.1645 - val_accuracy: 0.9687\n",
      "Epoch 47/50\n",
      "12/12 [==============================] - 1s 44ms/step - loss: 0.0208 - accuracy: 0.9939 - val_loss: 0.1710 - val_accuracy: 0.9673\n",
      "Epoch 48/50\n",
      "12/12 [==============================] - 1s 44ms/step - loss: 0.0212 - accuracy: 0.9930 - val_loss: 0.1699 - val_accuracy: 0.9666\n",
      "Epoch 49/50\n",
      "12/12 [==============================] - 1s 44ms/step - loss: 0.0197 - accuracy: 0.9939 - val_loss: 0.1817 - val_accuracy: 0.9655\n",
      "Epoch 50/50\n",
      "12/12 [==============================] - 1s 43ms/step - loss: 0.0198 - accuracy: 0.9938 - val_loss: 0.1758 - val_accuracy: 0.9672\n",
      "\n",
      " Evaluate the new model against the test set:\n",
      "3/3 [==============================] - 0s 12ms/step - loss: 0.1436 - accuracy: 0.9699\n"
     ]
    },
    {
     "data": {
      "text/plain": [
       "[0.14358186721801758, 0.9699000120162964]"
      ]
     },
     "execution_count": 40,
     "metadata": {
      "tags": []
     },
     "output_type": "execute_result"
    },
    {
     "data": {
      "image/png": "[encoded data removed]",
      "text/plain": [
       "<Figure size 432x288 with 1 Axes>"
      ]
     },
     "metadata": {
      "needs_background": "light",
      "tags": []
     },
     "output_type": "display_data"
    }
   ],
   "source": [
    "#@title training the model\n",
    "# The following variables are the hyperparameters.\n",
    "learning_rate = 0.005\n",
    "epochs = 50\n",
    "batch_size = 4000\n",
    "validation_split = 0.25\n",
    "\n",
    "my_model = create_model(learning_rate)\n",
    "\n",
    "epochs, hist = train_model(my_model, x_train_normalized, y_train, \n",
    "                           epochs, batch_size, validation_split)\n",
    "\n",
    "list_of_metrics_to_plot = ['accuracy']\n",
    "plot_curve(epochs, hist, list_of_metrics_to_plot)\n",
    "\n",
    "# Evaluate against the test set.\n",
    "print(\"\\n Evaluate the new model against the test set:\")\n",
    "my_model.evaluate(x=x_test_normalized, y=y_test, batch_size=batch_size)"
   ]
  }
 ],
 "metadata": {
  "colab": {
   "name": "josh_model_one.ipynb",
   "provenance": []
  },
  "kernelspec": {
   "display_name": "Python 3",
   "language": "python",
   "name": "python3"
  },
  "language_info": {
   "codemirror_mode": {
    "name": "ipython",
    "version": 3
   },
   "file_extension": ".py",
   "mimetype": "text/x-python",
   "name": "python",
   "nbconvert_exporter": "python",
   "pygments_lexer": "ipython3",
   "version": "3.8.5"
  }
 },
 "nbformat": 4,
 "nbformat_minor": 1
}
