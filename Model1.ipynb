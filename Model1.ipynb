{
  "nbformat": 4,
  "nbformat_minor": 0,
  "metadata": {
    "colab": {
      "name": "Model1.ipynb",
      "provenance": [],
      "collapsed_sections": [],
      "authorship_tag": "ABX9TyP06KFeiY+ji0fym7x6aEkY",
      "include_colab_link": true
    },
    "kernelspec": {
      "name": "python3",
      "display_name": "Python 3"
    }
  },
  "cells": [
    {
      "cell_type": "markdown",
      "metadata": {
        "id": "view-in-github",
        "colab_type": "text"
      },
      "source": [
        "<a href=\"https://colab.research.google.com/github/WITTER-JHU-APL/OCR-Tool/blob/neha-jupyter-notebooks/Model1.ipynb\" target=\"_parent\"><img src=\"https://colab.research.google.com/assets/colab-badge.svg\" alt=\"Open In Colab\"/></a>"
      ]
    },
    {
      "cell_type": "code",
      "metadata": {
        "id": "k_H2at3YAFmK"
      },
      "source": [
        "#@title Run on TensorFlow 2.x\n",
        "%tensorflow_version 2.x\n",
        "from __future__ import absolute_import, division, print_function, unicode_literals"
      ],
      "execution_count": null,
      "outputs": []
    },
    {
      "cell_type": "code",
      "metadata": {
        "id": "n2LTPQmxAMnz"
      },
      "source": [
        "#@title Import relevant modules\n",
        "import numpy as np\n",
        "import pandas as pd\n",
        "import tensorflow as tf\n",
        "from tensorflow.keras import layers\n",
        "from matplotlib import pyplot as plt\n",
        "\n",
        "# The following lines adjust the granularity of reporting. \n",
        "pd.options.display.max_rows = 10\n",
        "pd.options.display.float_format = \"{:.1f}\".format\n",
        "\n",
        "# The following line improves formatting when ouputting NumPy arrays.\n",
        "np.set_printoptions(linewidth = 200)"
      ],
      "execution_count": null,
      "outputs": []
    },
    {
      "cell_type": "code",
      "metadata": {
        "id": "btV0dlDIAQOb"
      },
      "source": [
        "(x_train, y_train),(x_test, y_test) = tf.keras.datasets.mnist.load_data()"
      ],
      "execution_count": null,
      "outputs": []
    },
    {
      "cell_type": "code",
      "metadata": {
        "colab": {
          "base_uri": "https://localhost:8080/"
        },
        "id": "napvgCsIAUCV",
        "outputId": "61d0d7a1-8b79-42c3-b328-f16ff45d774a"
      },
      "source": [
        "x_train[2019]"
      ],
      "execution_count": null,
      "outputs": [
        {
          "output_type": "execute_result",
          "data": {
            "text/plain": [
              "array([[  0,   0,   0,   0,   0,   0,   0,   0,   0,   0,   0,   0,   0,   0,   0,   0,   0,   0,   0,   0,   0,   0,   0,   0,   0,   0,   0,   0],\n",
              "       [  0,   0,   0,   0,   0,   0,   0,   0,   0,   0,   0,   0,   0,   0,   0,   0,   0,   0,   0,   0,   0,   0,   0,   0,   0,   0,   0,   0],\n",
              "       [  0,   0,   0,   0,   0,   0,   0,   0,   0,   0,   0,   0,   0,   0,   0,   0,   0,   0,   0,   0,   0,   0,   0,   0,   0,   0,   0,   0],\n",
              "       [  0,   0,   0,   0,   0,   0, 116, 255, 254, 255, 254, 254, 254, 142,  10,   0,   0,   0,   0,   0,   0,   0,   0,   0,   0,   0,   0,   0],\n",
              "       [  0,   0,   0,   0,   0,   0, 254, 253, 253, 253, 253, 253, 253, 253, 149,  83,   0,   0,   0,   0,   0,   0,   0,   0,   0,   0,   0,   0],\n",
              "       [  0,   0,   0,   0,   0,   0, 254, 253, 253, 253, 253, 253, 253, 253, 253, 162,   4,   0,   0,   0,   0,   0,   0,   0,   0,   0,   0,   0],\n",
              "       [  0,   0,   0,   0,   0,   0, 255, 253, 253, 253, 253, 253, 253, 253, 253, 253,  93,   0,   0,   0,   0,   0,   0,   0,   0,   0,   0,   0],\n",
              "       [  0,   0,   0,   0,   0,   0, 254, 253, 253, 253, 253, 253, 253, 253, 253, 253, 182,  15,   0,   0,   0,   0,   0,   0,   0,   0,   0,   0],\n",
              "       [  0,   0,   0,   0,   0,   0, 254, 243, 234, 177,  46,  46, 116, 253, 253, 253, 253,  27,   0,   0,   0,   0,   0,   0,   0,   0,   0,   0],\n",
              "       [  0,   0,   0,   0,   0,   0, 169,  81,   0,   0,   0,   0,  85, 253, 253, 253, 253,  27,   0,   0,   0,   0,   0,   0,   0,   0,   0,   0],\n",
              "       [  0,   0,   0,   0,   0,   0,   0,   0,   0,   0,   0,   0,  85, 253, 253, 253, 253,  27,   0,   0,   0,   0,   0,   0,   0,   0,   0,   0],\n",
              "       [  0,   0,   0,   0,   0,   0,   0,   0,   0,   0,   0,   3, 104, 253, 253, 253, 253,  27,   0,   0,   0,   0,   0,   0,   0,   0,   0,   0],\n",
              "       [  0,   0,   0,   0,   0,   0,   0,   0,   0,   0,   0,  90, 253, 253, 253, 253, 193,  17,   0,   0,   0,   0,   0,   0,   0,   0,   0,   0],\n",
              "       [  0,   0,   0,   0,   0,   0,   0,   0,   0,   0,  90, 236, 253, 253, 253, 253,  93,   0,   0,   0,   0,   0,   0,   0,   0,   0,   0,   0],\n",
              "       [  0,   0,   0,   0,   0,   0,   0,   0,  30,  95, 241, 253, 253, 253, 248, 144,  10,   0,   0,   0,   0,  17,  38,  38,  20,   0,   0,   0],\n",
              "       [  0,   0,   0,   0,   0,   0,   0,   0, 198, 253, 253, 253, 253, 253, 224,   0,   0,   0,   0,  70, 104, 170, 253, 253, 130,   0,   0,   0],\n",
              "       [  0,   0,   0,   0,   0,   0,   0,   0, 198, 253, 253, 253, 253, 253, 243, 170, 170, 170, 170, 225, 253, 253, 253, 253, 212,  44,   0,   0],\n",
              "       [  0,   0,   0,   0,   0,   0,   0,   0, 198, 253, 253, 253, 253, 253, 253, 253, 253, 253, 253, 253, 253, 253, 253, 253, 253, 100,   0,   0],\n",
              "       [  0,   0,   0,   0,   0,   0,   0,   0, 198, 253, 253, 253, 253, 253, 253, 253, 253, 253, 253, 253, 253, 253, 253, 253, 253, 253,   0,   0],\n",
              "       [  0,   0,   0,   0,   0,   0,   0,   0, 198, 253, 253, 253, 253, 253, 253, 253, 253, 253, 253, 253, 253, 253, 253, 253, 253, 253,   0,   0],\n",
              "       [  0,   0,   0,   0,   0,   0,   0,   0, 198, 253, 253, 253, 253, 253, 253, 253, 253, 253, 253, 253, 253, 253, 253, 240, 196, 196,   0,   0],\n",
              "       [  0,   0,   0,   0,   0,   0,   0,   0, 103, 166, 253, 253, 253, 253, 253, 253, 253, 234, 130, 130, 130, 130, 130, 102,   0,   0,   0,   0],\n",
              "       [  0,   0,   0,   0,   0,   0,   0,   0,   0,  20,  65,  65,  65,  65,  65,  65,  65,  55,   0,   0,   0,   0,   0,   0,   0,   0,   0,   0],\n",
              "       [  0,   0,   0,   0,   0,   0,   0,   0,   0,   0,   0,   0,   0,   0,   0,   0,   0,   0,   0,   0,   0,   0,   0,   0,   0,   0,   0,   0],\n",
              "       [  0,   0,   0,   0,   0,   0,   0,   0,   0,   0,   0,   0,   0,   0,   0,   0,   0,   0,   0,   0,   0,   0,   0,   0,   0,   0,   0,   0],\n",
              "       [  0,   0,   0,   0,   0,   0,   0,   0,   0,   0,   0,   0,   0,   0,   0,   0,   0,   0,   0,   0,   0,   0,   0,   0,   0,   0,   0,   0],\n",
              "       [  0,   0,   0,   0,   0,   0,   0,   0,   0,   0,   0,   0,   0,   0,   0,   0,   0,   0,   0,   0,   0,   0,   0,   0,   0,   0,   0,   0],\n",
              "       [  0,   0,   0,   0,   0,   0,   0,   0,   0,   0,   0,   0,   0,   0,   0,   0,   0,   0,   0,   0,   0,   0,   0,   0,   0,   0,   0,   0]], dtype=uint8)"
            ]
          },
          "metadata": {
            "tags": []
          },
          "execution_count": 15
        }
      ]
    },
    {
      "cell_type": "code",
      "metadata": {
        "colab": {
          "base_uri": "https://localhost:8080/",
          "height": 282
        },
        "id": "FmrsdAxvAXnX",
        "outputId": "409a8885-3a56-4613-b6e2-2dfc32aa5cdf"
      },
      "source": [
        "# Use false colors to visualize the array.\n",
        "plt.imshow(x_train[2019])"
      ],
      "execution_count": null,
      "outputs": [
        {
          "output_type": "execute_result",
          "data": {
            "text/plain": [
              "<matplotlib.image.AxesImage at 0x7f036e03cbe0>"
            ]
          },
          "metadata": {
            "tags": []
          },
          "execution_count": 16
        },
        {
          "output_type": "display_data",
          "data": {
            "image/png": "[encoded data removed]",
            "text/plain": [
              "<Figure size 432x288 with 1 Axes>"
            ]
          },
          "metadata": {
            "tags": [],
            "needs_background": "light"
          }
        }
      ]
    },
    {
      "cell_type": "code",
      "metadata": {
        "colab": {
          "base_uri": "https://localhost:8080/"
        },
        "id": "xOot9MArB1SN",
        "outputId": "6c99d6a5-aae7-4272-bae6-1d3911359d93"
      },
      "source": [
        "# Output row #10 of example #2019.\n",
        "x_train[2019][10]"
      ],
      "execution_count": null,
      "outputs": [
        {
          "output_type": "execute_result",
          "data": {
            "text/plain": [
              "array([  0,   0,   0,   0,   0,   0,   0,   0,   0,   0,   0,   0,  85, 253, 253, 253, 253,  27,   0,   0,   0,   0,   0,   0,   0,   0,   0,   0], dtype=uint8)"
            ]
          },
          "metadata": {
            "tags": []
          },
          "execution_count": 17
        }
      ]
    },
    {
      "cell_type": "code",
      "metadata": {
        "colab": {
          "base_uri": "https://localhost:8080/"
        },
        "id": "L-wkjvmhB7xv",
        "outputId": "ef0bca5f-3c70-49bd-c082-aecb0c289e8c"
      },
      "source": [
        "# Output pixel #16 of row #10 of example #2019.\n",
        "x_train[2019][10][16]"
      ],
      "execution_count": null,
      "outputs": [
        {
          "output_type": "execute_result",
          "data": {
            "text/plain": [
              "253"
            ]
          },
          "metadata": {
            "tags": []
          },
          "execution_count": 18
        }
      ]
    },
    {
      "cell_type": "code",
      "metadata": {
        "colab": {
          "base_uri": "https://localhost:8080/"
        },
        "id": "-_JI5JKtB__l",
        "outputId": "014ffaf2-7315-4dad-f024-69e103068c18"
      },
      "source": [
        "x_train_normalized = x_train / 255.0\n",
        "x_test_normalized = x_test / 255.0\n",
        "print(x_train_normalized[2019][10]) # Output a normalized row"
      ],
      "execution_count": null,
      "outputs": [
        {
          "output_type": "stream",
          "text": [
            "[0.         0.         0.         0.         0.         0.         0.         0.         0.         0.         0.         0.         0.33333333 0.99215686 0.99215686 0.99215686 0.99215686 0.10588235\n",
            " 0.         0.         0.         0.         0.         0.         0.         0.         0.         0.        ]\n"
          ],
          "name": "stdout"
        }
      ]
    },
    {
      "cell_type": "code",
      "metadata": {
        "colab": {
          "base_uri": "https://localhost:8080/"
        },
        "id": "Zn_QsSuhCDv2",
        "outputId": "c43571d4-c69a-4a01-e53b-9d6013752b3b"
      },
      "source": [
        "#@title Define the plotting function\n",
        "def plot_curve(epochs, hist, list_of_metrics):\n",
        "\n",
        "  plt.figure()\n",
        "  plt.xlabel(\"Epoch\")\n",
        "  plt.ylabel(\"Value\")\n",
        "\n",
        "  for m in list_of_metrics:\n",
        "    x = hist[m]\n",
        "    plt.plot(epochs[1:], x[1:], label=m)\n",
        "\n",
        "  plt.legend()\n",
        "\n",
        "print(\"Loaded the plot_curve function.\")"
      ],
      "execution_count": null,
      "outputs": [
        {
          "output_type": "stream",
          "text": [
            "Loaded the plot_curve function.\n"
          ],
          "name": "stdout"
        }
      ]
    },
    {
      "cell_type": "code",
      "metadata": {
        "id": "-dC8e5CeCG3H"
      },
      "source": [
        "def create_model(my_learning_rate):\n",
        "  \n",
        "  model = tf.keras.models.Sequential()\n",
        "\n",
        "  # The features arein a two-dimensional 28X28 array. \n",
        "  # Flatten that two-dimensional array into a a one-dimensional \n",
        "  # 784-element array.\n",
        "  model.add(tf.keras.layers.Flatten(input_shape=(28, 28)))\n",
        "\n",
        "   \n",
        "  model.add(tf.keras.layers.Dense(units=32, activation='relu'))\n",
        "  \n",
        "  # Define a dropout regularization layer. \n",
        "  model.add(tf.keras.layers.Dropout(rate=0.2))\n",
        "\n",
        "  model.add(tf.keras.layers.Dense(units=10, activation='softmax'))     \n",
        "                           \n",
        "  # Construct the layers into a model  \n",
        "  model.compile(optimizer=tf.keras.optimizers.Adam(lr=my_learning_rate),\n",
        "                loss=\"sparse_categorical_crossentropy\",\n",
        "                metrics=['accuracy'])\n",
        "  \n",
        "  return model    \n",
        "\n",
        "\n",
        "def train_model(model, train_features, train_label, epochs,\n",
        "                batch_size=None, validation_split=0.1):\n",
        "  \"\"\"Train the model by feeding it data.\"\"\"\n",
        "\n",
        "  history = model.fit(x=train_features, y=train_label, batch_size=batch_size,\n",
        "                      epochs=epochs, shuffle=True, \n",
        "                      validation_split=validation_split)\n",
        "  \n",
        "  epochs = history.epoch\n",
        "  hist = pd.DataFrame(history.history)\n",
        "\n",
        "  return epochs, hist    "
      ],
      "execution_count": null,
      "outputs": []
    },
    {
      "cell_type": "code",
      "metadata": {
        "colab": {
          "base_uri": "https://localhost:8080/",
          "height": 1000
        },
        "id": "3kLPjmw9CK2G",
        "outputId": "56fd9c07-e2ad-418f-bca9-8fa43f0aea18"
      },
      "source": [
        "\n",
        "learning_rate = 0.005\n",
        "epochs = 55\n",
        "batch_size = 4000\n",
        "validation_split = 0.2\n",
        "\n",
        "my_model = create_model(learning_rate)\n",
        "\n",
        "# Training the model on the normalized training set.\n",
        "epochs, hist = train_model(my_model, x_train_normalized, y_train, \n",
        "                           epochs, batch_size, validation_split)\n",
        "\n",
        "# graph of the metric vs. epochs.\n",
        "list_of_metrics_to_plot = ['accuracy']\n",
        "plot_curve(epochs, hist, list_of_metrics_to_plot)\n",
        "\n",
        "# Evaluate against the test set.\n",
        "print(\"\\n Evaluate the new model against the test set:\")\n",
        "my_model.evaluate(x=x_test_normalized, y=y_test, batch_size=batch_size)"
      ],
      "execution_count": null,
      "outputs": [
        {
          "output_type": "stream",
          "text": [
            "Epoch 1/55\n",
            "12/12 [==============================] - 1s 40ms/step - loss: 1.8590 - accuracy: 0.4036 - val_loss: 0.6596 - val_accuracy: 0.8426\n",
            "Epoch 2/55\n",
            "12/12 [==============================] - 0s 37ms/step - loss: 0.7490 - accuracy: 0.7749 - val_loss: 0.4091 - val_accuracy: 0.8877\n",
            "Epoch 3/55\n",
            "12/12 [==============================] - 0s 26ms/step - loss: 0.5378 - accuracy: 0.8405 - val_loss: 0.3434 - val_accuracy: 0.9047\n",
            "Epoch 4/55\n",
            "12/12 [==============================] - 0s 26ms/step - loss: 0.4484 - accuracy: 0.8686 - val_loss: 0.3000 - val_accuracy: 0.9150\n",
            "Epoch 5/55\n",
            "12/12 [==============================] - 0s 28ms/step - loss: 0.4055 - accuracy: 0.8814 - val_loss: 0.2766 - val_accuracy: 0.9222\n",
            "Epoch 6/55\n",
            "12/12 [==============================] - 0s 25ms/step - loss: 0.3729 - accuracy: 0.8895 - val_loss: 0.2596 - val_accuracy: 0.9269\n",
            "Epoch 7/55\n",
            "12/12 [==============================] - 0s 30ms/step - loss: 0.3429 - accuracy: 0.9009 - val_loss: 0.2446 - val_accuracy: 0.9320\n",
            "Epoch 8/55\n",
            "12/12 [==============================] - 0s 25ms/step - loss: 0.3313 - accuracy: 0.9015 - val_loss: 0.2353 - val_accuracy: 0.9337\n",
            "Epoch 9/55\n",
            "12/12 [==============================] - 0s 26ms/step - loss: 0.3205 - accuracy: 0.9066 - val_loss: 0.2245 - val_accuracy: 0.9373\n",
            "Epoch 10/55\n",
            "12/12 [==============================] - 0s 26ms/step - loss: 0.3011 - accuracy: 0.9088 - val_loss: 0.2180 - val_accuracy: 0.9396\n",
            "Epoch 11/55\n",
            "12/12 [==============================] - 0s 28ms/step - loss: 0.2908 - accuracy: 0.9148 - val_loss: 0.2092 - val_accuracy: 0.9410\n",
            "Epoch 12/55\n",
            "12/12 [==============================] - 0s 27ms/step - loss: 0.2844 - accuracy: 0.9139 - val_loss: 0.2029 - val_accuracy: 0.9433\n",
            "Epoch 13/55\n",
            "12/12 [==============================] - 0s 26ms/step - loss: 0.2670 - accuracy: 0.9199 - val_loss: 0.1968 - val_accuracy: 0.9447\n",
            "Epoch 14/55\n",
            "12/12 [==============================] - 0s 28ms/step - loss: 0.2628 - accuracy: 0.9212 - val_loss: 0.1945 - val_accuracy: 0.9456\n",
            "Epoch 15/55\n",
            "12/12 [==============================] - 0s 26ms/step - loss: 0.2545 - accuracy: 0.9239 - val_loss: 0.1897 - val_accuracy: 0.9470\n",
            "Epoch 16/55\n",
            "12/12 [==============================] - 0s 28ms/step - loss: 0.2542 - accuracy: 0.9247 - val_loss: 0.1842 - val_accuracy: 0.9485\n",
            "Epoch 17/55\n",
            "12/12 [==============================] - 0s 26ms/step - loss: 0.2463 - accuracy: 0.9263 - val_loss: 0.1812 - val_accuracy: 0.9500\n",
            "Epoch 18/55\n",
            "12/12 [==============================] - 0s 26ms/step - loss: 0.2348 - accuracy: 0.9298 - val_loss: 0.1772 - val_accuracy: 0.9511\n",
            "Epoch 19/55\n",
            "12/12 [==============================] - 0s 27ms/step - loss: 0.2340 - accuracy: 0.9311 - val_loss: 0.1743 - val_accuracy: 0.9520\n",
            "Epoch 20/55\n",
            "12/12 [==============================] - 0s 26ms/step - loss: 0.2303 - accuracy: 0.9303 - val_loss: 0.1722 - val_accuracy: 0.9521\n",
            "Epoch 21/55\n",
            "12/12 [==============================] - 0s 26ms/step - loss: 0.2233 - accuracy: 0.9326 - val_loss: 0.1689 - val_accuracy: 0.9539\n",
            "Epoch 22/55\n",
            "12/12 [==============================] - 0s 27ms/step - loss: 0.2237 - accuracy: 0.9314 - val_loss: 0.1667 - val_accuracy: 0.9543\n",
            "Epoch 23/55\n",
            "12/12 [==============================] - 0s 26ms/step - loss: 0.2125 - accuracy: 0.9349 - val_loss: 0.1661 - val_accuracy: 0.9539\n",
            "Epoch 24/55\n",
            "12/12 [==============================] - 0s 26ms/step - loss: 0.2204 - accuracy: 0.9337 - val_loss: 0.1631 - val_accuracy: 0.9553\n",
            "Epoch 25/55\n",
            "12/12 [==============================] - 0s 26ms/step - loss: 0.2084 - accuracy: 0.9368 - val_loss: 0.1612 - val_accuracy: 0.9549\n",
            "Epoch 26/55\n",
            "12/12 [==============================] - 0s 26ms/step - loss: 0.2058 - accuracy: 0.9378 - val_loss: 0.1596 - val_accuracy: 0.9556\n",
            "Epoch 27/55\n",
            "12/12 [==============================] - 0s 36ms/step - loss: 0.1975 - accuracy: 0.9393 - val_loss: 0.1603 - val_accuracy: 0.9555\n",
            "Epoch 28/55\n",
            "12/12 [==============================] - 0s 26ms/step - loss: 0.2010 - accuracy: 0.9396 - val_loss: 0.1567 - val_accuracy: 0.9573\n",
            "Epoch 29/55\n",
            "12/12 [==============================] - 0s 28ms/step - loss: 0.1929 - accuracy: 0.9393 - val_loss: 0.1565 - val_accuracy: 0.9570\n",
            "Epoch 30/55\n",
            "12/12 [==============================] - 0s 26ms/step - loss: 0.1932 - accuracy: 0.9418 - val_loss: 0.1549 - val_accuracy: 0.9574\n",
            "Epoch 31/55\n",
            "12/12 [==============================] - 0s 28ms/step - loss: 0.1949 - accuracy: 0.9403 - val_loss: 0.1547 - val_accuracy: 0.9590\n",
            "Epoch 32/55\n",
            "12/12 [==============================] - 0s 26ms/step - loss: 0.1896 - accuracy: 0.9414 - val_loss: 0.1529 - val_accuracy: 0.9578\n",
            "Epoch 33/55\n",
            "12/12 [==============================] - 0s 25ms/step - loss: 0.1864 - accuracy: 0.9431 - val_loss: 0.1528 - val_accuracy: 0.9579\n",
            "Epoch 34/55\n",
            "12/12 [==============================] - 0s 28ms/step - loss: 0.1842 - accuracy: 0.9432 - val_loss: 0.1503 - val_accuracy: 0.9580\n",
            "Epoch 35/55\n",
            "12/12 [==============================] - 0s 26ms/step - loss: 0.1900 - accuracy: 0.9404 - val_loss: 0.1498 - val_accuracy: 0.9592\n",
            "Epoch 36/55\n",
            "12/12 [==============================] - 0s 27ms/step - loss: 0.1828 - accuracy: 0.9434 - val_loss: 0.1480 - val_accuracy: 0.9594\n",
            "Epoch 37/55\n",
            "12/12 [==============================] - 0s 26ms/step - loss: 0.1782 - accuracy: 0.9447 - val_loss: 0.1482 - val_accuracy: 0.9602\n",
            "Epoch 38/55\n",
            "12/12 [==============================] - 0s 27ms/step - loss: 0.1788 - accuracy: 0.9443 - val_loss: 0.1483 - val_accuracy: 0.9597\n",
            "Epoch 39/55\n",
            "12/12 [==============================] - 0s 26ms/step - loss: 0.1746 - accuracy: 0.9467 - val_loss: 0.1461 - val_accuracy: 0.9602\n",
            "Epoch 40/55\n",
            "12/12 [==============================] - 0s 26ms/step - loss: 0.1762 - accuracy: 0.9454 - val_loss: 0.1460 - val_accuracy: 0.9600\n",
            "Epoch 41/55\n",
            "12/12 [==============================] - 0s 28ms/step - loss: 0.1743 - accuracy: 0.9466 - val_loss: 0.1468 - val_accuracy: 0.9595\n",
            "Epoch 42/55\n",
            "12/12 [==============================] - 0s 29ms/step - loss: 0.1740 - accuracy: 0.9448 - val_loss: 0.1452 - val_accuracy: 0.9600\n",
            "Epoch 43/55\n",
            "12/12 [==============================] - 0s 26ms/step - loss: 0.1739 - accuracy: 0.9468 - val_loss: 0.1449 - val_accuracy: 0.9603\n",
            "Epoch 44/55\n",
            "12/12 [==============================] - 0s 26ms/step - loss: 0.1747 - accuracy: 0.9457 - val_loss: 0.1454 - val_accuracy: 0.9599\n",
            "Epoch 45/55\n",
            "12/12 [==============================] - 0s 26ms/step - loss: 0.1683 - accuracy: 0.9469 - val_loss: 0.1469 - val_accuracy: 0.9613\n",
            "Epoch 46/55\n",
            "12/12 [==============================] - 0s 26ms/step - loss: 0.1692 - accuracy: 0.9474 - val_loss: 0.1453 - val_accuracy: 0.9602\n",
            "Epoch 47/55\n",
            "12/12 [==============================] - 0s 25ms/step - loss: 0.1682 - accuracy: 0.9475 - val_loss: 0.1434 - val_accuracy: 0.9603\n",
            "Epoch 48/55\n",
            "12/12 [==============================] - 0s 36ms/step - loss: 0.1658 - accuracy: 0.9484 - val_loss: 0.1438 - val_accuracy: 0.9607\n",
            "Epoch 49/55\n",
            "12/12 [==============================] - 0s 27ms/step - loss: 0.1616 - accuracy: 0.9495 - val_loss: 0.1441 - val_accuracy: 0.9597\n",
            "Epoch 50/55\n",
            "12/12 [==============================] - 0s 26ms/step - loss: 0.1621 - accuracy: 0.9499 - val_loss: 0.1441 - val_accuracy: 0.9617\n",
            "Epoch 51/55\n",
            "12/12 [==============================] - 0s 28ms/step - loss: 0.1630 - accuracy: 0.9499 - val_loss: 0.1429 - val_accuracy: 0.9611\n",
            "Epoch 52/55\n",
            "12/12 [==============================] - 0s 26ms/step - loss: 0.1595 - accuracy: 0.9506 - val_loss: 0.1441 - val_accuracy: 0.9611\n",
            "Epoch 53/55\n",
            "12/12 [==============================] - 0s 27ms/step - loss: 0.1559 - accuracy: 0.9523 - val_loss: 0.1426 - val_accuracy: 0.9615\n",
            "Epoch 54/55\n",
            "12/12 [==============================] - 0s 27ms/step - loss: 0.1603 - accuracy: 0.9483 - val_loss: 0.1413 - val_accuracy: 0.9615\n",
            "Epoch 55/55\n",
            "12/12 [==============================] - 0s 25ms/step - loss: 0.1616 - accuracy: 0.9493 - val_loss: 0.1413 - val_accuracy: 0.9617\n",
            "\n",
            " Evaluate the new model against the test set:\n",
            "3/3 [==============================] - 0s 8ms/step - loss: 0.1399 - accuracy: 0.9601\n"
          ],
          "name": "stdout"
        },
        {
          "output_type": "execute_result",
          "data": {
            "text/plain": [
              "[0.13994872570037842, 0.960099995136261]"
            ]
          },
          "metadata": {
            "tags": []
          },
          "execution_count": 22
        },
        {
          "output_type": "display_data",
          "data": {
            "image/png": "[encoded data removed]",
            "text/plain": [
              "<Figure size 432x288 with 1 Axes>"
            ]
          },
          "metadata": {
            "tags": [],
            "needs_background": "light"
          }
        }
      ]
    }
  ]
}