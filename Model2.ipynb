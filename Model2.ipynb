{
  "nbformat": 4,
  "nbformat_minor": 0,
  "metadata": {
    "colab": {
      "name": "Model2.ipynb",
      "provenance": [],
      "collapsed_sections": [],
      "authorship_tag": "ABX9TyNMSsHp7hG44b0r24DUWvEv",
      "include_colab_link": true
    },
    "kernelspec": {
      "name": "python3",
      "display_name": "Python 3"
    }
  },
  "cells": [
    {
      "cell_type": "markdown",
      "metadata": {
        "id": "view-in-github",
        "colab_type": "text"
      },
      "source": [
        "<a href=\"https://colab.research.google.com/github/WITTER-JHU-APL/OCR-Tool/blob/neha-jupyter-notebooks/Model2.ipynb\" target=\"_parent\"><img src=\"https://colab.research.google.com/assets/colab-badge.svg\" alt=\"Open In Colab\"/></a>"
      ]
    },
    {
      "cell_type": "code",
      "metadata": {
        "id": "g50_YpeEyttw"
      },
      "source": [
        "#@title Run on TensorFlow 2.x\n",
        "%tensorflow_version 2.x\n",
        "from __future__ import absolute_import, division, print_function, unicode_literals"
      ],
      "execution_count": null,
      "outputs": []
    },
    {
      "cell_type": "code",
      "metadata": {
        "id": "UAm880Wm0MFX"
      },
      "source": [
        "#@title Import relevant modules\n",
        "import numpy as np\n",
        "import pandas as pd\n",
        "import tensorflow as tf\n",
        "from tensorflow.keras import layers\n",
        "from matplotlib import pyplot as plt\n",
        "from keras.utils import np_utils\n",
        "\n",
        "# The following lines adjust the granularity of reporting. \n",
        "pd.options.display.max_rows = 10\n",
        "pd.options.display.float_format = \"{:.1f}\".format\n",
        "\n",
        "# The following line improves formatting when ouputting NumPy arrays.\n",
        "np.set_printoptions(linewidth = 200)"
      ],
      "execution_count": null,
      "outputs": []
    },
    {
      "cell_type": "code",
      "metadata": {
        "colab": {
          "base_uri": "https://localhost:8080/"
        },
        "id": "TBUg4zaV0vK-",
        "outputId": "c85b4b20-5387-40e9-8b52-d4e7ddf06000"
      },
      "source": [
        "tf.keras.datasets.mnist.load_data(path=\"mnist.npz\")"
      ],
      "execution_count": null,
      "outputs": [
        {
          "output_type": "stream",
          "text": [
            "Downloading data from https://storage.googleapis.com/tensorflow/tf-keras-datasets/mnist.npz\n",
            "11493376/11490434 [==============================] - 0s 0us/step\n"
          ],
          "name": "stdout"
        },
        {
          "output_type": "execute_result",
          "data": {
            "text/plain": [
              "((array([[[0, 0, 0, ..., 0, 0, 0],\n",
              "          [0, 0, 0, ..., 0, 0, 0],\n",
              "          [0, 0, 0, ..., 0, 0, 0],\n",
              "          ...,\n",
              "          [0, 0, 0, ..., 0, 0, 0],\n",
              "          [0, 0, 0, ..., 0, 0, 0],\n",
              "          [0, 0, 0, ..., 0, 0, 0]],\n",
              "  \n",
              "         [[0, 0, 0, ..., 0, 0, 0],\n",
              "          [0, 0, 0, ..., 0, 0, 0],\n",
              "          [0, 0, 0, ..., 0, 0, 0],\n",
              "          ...,\n",
              "          [0, 0, 0, ..., 0, 0, 0],\n",
              "          [0, 0, 0, ..., 0, 0, 0],\n",
              "          [0, 0, 0, ..., 0, 0, 0]],\n",
              "  \n",
              "         [[0, 0, 0, ..., 0, 0, 0],\n",
              "          [0, 0, 0, ..., 0, 0, 0],\n",
              "          [0, 0, 0, ..., 0, 0, 0],\n",
              "          ...,\n",
              "          [0, 0, 0, ..., 0, 0, 0],\n",
              "          [0, 0, 0, ..., 0, 0, 0],\n",
              "          [0, 0, 0, ..., 0, 0, 0]],\n",
              "  \n",
              "         ...,\n",
              "  \n",
              "         [[0, 0, 0, ..., 0, 0, 0],\n",
              "          [0, 0, 0, ..., 0, 0, 0],\n",
              "          [0, 0, 0, ..., 0, 0, 0],\n",
              "          ...,\n",
              "          [0, 0, 0, ..., 0, 0, 0],\n",
              "          [0, 0, 0, ..., 0, 0, 0],\n",
              "          [0, 0, 0, ..., 0, 0, 0]],\n",
              "  \n",
              "         [[0, 0, 0, ..., 0, 0, 0],\n",
              "          [0, 0, 0, ..., 0, 0, 0],\n",
              "          [0, 0, 0, ..., 0, 0, 0],\n",
              "          ...,\n",
              "          [0, 0, 0, ..., 0, 0, 0],\n",
              "          [0, 0, 0, ..., 0, 0, 0],\n",
              "          [0, 0, 0, ..., 0, 0, 0]],\n",
              "  \n",
              "         [[0, 0, 0, ..., 0, 0, 0],\n",
              "          [0, 0, 0, ..., 0, 0, 0],\n",
              "          [0, 0, 0, ..., 0, 0, 0],\n",
              "          ...,\n",
              "          [0, 0, 0, ..., 0, 0, 0],\n",
              "          [0, 0, 0, ..., 0, 0, 0],\n",
              "          [0, 0, 0, ..., 0, 0, 0]]], dtype=uint8),\n",
              "  array([5, 0, 4, ..., 5, 6, 8], dtype=uint8)),\n",
              " (array([[[0, 0, 0, ..., 0, 0, 0],\n",
              "          [0, 0, 0, ..., 0, 0, 0],\n",
              "          [0, 0, 0, ..., 0, 0, 0],\n",
              "          ...,\n",
              "          [0, 0, 0, ..., 0, 0, 0],\n",
              "          [0, 0, 0, ..., 0, 0, 0],\n",
              "          [0, 0, 0, ..., 0, 0, 0]],\n",
              "  \n",
              "         [[0, 0, 0, ..., 0, 0, 0],\n",
              "          [0, 0, 0, ..., 0, 0, 0],\n",
              "          [0, 0, 0, ..., 0, 0, 0],\n",
              "          ...,\n",
              "          [0, 0, 0, ..., 0, 0, 0],\n",
              "          [0, 0, 0, ..., 0, 0, 0],\n",
              "          [0, 0, 0, ..., 0, 0, 0]],\n",
              "  \n",
              "         [[0, 0, 0, ..., 0, 0, 0],\n",
              "          [0, 0, 0, ..., 0, 0, 0],\n",
              "          [0, 0, 0, ..., 0, 0, 0],\n",
              "          ...,\n",
              "          [0, 0, 0, ..., 0, 0, 0],\n",
              "          [0, 0, 0, ..., 0, 0, 0],\n",
              "          [0, 0, 0, ..., 0, 0, 0]],\n",
              "  \n",
              "         ...,\n",
              "  \n",
              "         [[0, 0, 0, ..., 0, 0, 0],\n",
              "          [0, 0, 0, ..., 0, 0, 0],\n",
              "          [0, 0, 0, ..., 0, 0, 0],\n",
              "          ...,\n",
              "          [0, 0, 0, ..., 0, 0, 0],\n",
              "          [0, 0, 0, ..., 0, 0, 0],\n",
              "          [0, 0, 0, ..., 0, 0, 0]],\n",
              "  \n",
              "         [[0, 0, 0, ..., 0, 0, 0],\n",
              "          [0, 0, 0, ..., 0, 0, 0],\n",
              "          [0, 0, 0, ..., 0, 0, 0],\n",
              "          ...,\n",
              "          [0, 0, 0, ..., 0, 0, 0],\n",
              "          [0, 0, 0, ..., 0, 0, 0],\n",
              "          [0, 0, 0, ..., 0, 0, 0]],\n",
              "  \n",
              "         [[0, 0, 0, ..., 0, 0, 0],\n",
              "          [0, 0, 0, ..., 0, 0, 0],\n",
              "          [0, 0, 0, ..., 0, 0, 0],\n",
              "          ...,\n",
              "          [0, 0, 0, ..., 0, 0, 0],\n",
              "          [0, 0, 0, ..., 0, 0, 0],\n",
              "          [0, 0, 0, ..., 0, 0, 0]]], dtype=uint8),\n",
              "  array([7, 2, 1, ..., 4, 5, 6], dtype=uint8)))"
            ]
          },
          "metadata": {
            "tags": []
          },
          "execution_count": 3
        }
      ]
    },
    {
      "cell_type": "code",
      "metadata": {
        "id": "6utkZsRk3xbn"
      },
      "source": [
        "(x_train, y_train),(x_test, y_test) = tf.keras.datasets.mnist.load_data()"
      ],
      "execution_count": null,
      "outputs": []
    },
    {
      "cell_type": "code",
      "metadata": {
        "colab": {
          "base_uri": "https://localhost:8080/",
          "height": 221
        },
        "id": "wtzQW2A_4aFb",
        "outputId": "9522384d-8eb7-4f44-e9b6-8c014ae218b2"
      },
      "source": [
        "fig = plt.figure()\n",
        "for i in range(1):\n",
        "  plt.subplot(3,3,i+1)\n",
        "  plt.tight_layout()\n",
        "  plt.imshow(x_train[i], cmap='gray', interpolation='none')\n",
        "  plt.title(\"Digit: {}\".format(y_train[i]))\n",
        "  plt.xticks([])\n",
        "  plt.yticks([])\n",
        "fig"
      ],
      "execution_count": null,
      "outputs": [
        {
          "output_type": "execute_result",
          "data": {
            "image/png": "[encoded data removed]",
            "text/plain": [
              "<Figure size 432x288 with 1 Axes>"
            ]
          },
          "metadata": {
            "tags": []
          },
          "execution_count": 5
        },
        {
          "output_type": "display_data",
          "data": {
            "image/png": "[encoded data removed]",
            "text/plain": [
              "<Figure size 432x288 with 1 Axes>"
            ]
          },
          "metadata": {
            "tags": []
          }
        }
      ]
    },
    {
      "cell_type": "code",
      "metadata": {
        "colab": {
          "base_uri": "https://localhost:8080/",
          "height": 545
        },
        "id": "5-rQzugO4kwQ",
        "outputId": "03b86b2e-da0d-4e26-be8e-c1ee4ab4833c"
      },
      "source": [
        "fig = plt.figure()\n",
        "plt.subplot(2,1,1)\n",
        "plt.imshow(x_train[0], cmap='gray', interpolation='none')\n",
        "plt.title(\"Digit: {}\".format(y_train[0]))\n",
        "plt.xticks([])\n",
        "plt.yticks([])\n",
        "plt.subplot(2,1,2)\n",
        "plt.hist(x_train[0].reshape(784))\n",
        "plt.title(\"Pixel Value Distribution\")\n",
        "fig"
      ],
      "execution_count": null,
      "outputs": [
        {
          "output_type": "execute_result",
          "data": {
            "image/png": "[encoded data removed]",
            "text/plain": [
              "<Figure size 432x288 with 2 Axes>"
            ]
          },
          "metadata": {
            "tags": []
          },
          "execution_count": 6
        },
        {
          "output_type": "display_data",
          "data": {
            "image/png": "[encoded data removed]",
            "text/plain": [
              "<Figure size 432x288 with 2 Axes>"
            ]
          },
          "metadata": {
            "tags": [],
            "needs_background": "light"
          }
        }
      ]
    },
    {
      "cell_type": "code",
      "metadata": {
        "colab": {
          "base_uri": "https://localhost:8080/"
        },
        "id": "h6GimpMd4sfb",
        "outputId": "53369318-a7b3-4332-9a5b-e07e47ceb543"
      },
      "source": [
        "# let's print the shape before we reshape and normalize\n",
        "print(\"X_train shape\", x_train.shape)\n",
        "print(\"y_train shape\", y_train.shape)\n",
        "print(\"X_test shape\", x_test.shape)\n",
        "print(\"y_test shape\", y_test.shape)\n",
        "\n",
        "# building the input vector from the 28x28 pixels\n",
        "x_train = x_train.reshape(60000, 784)\n",
        "x_test = x_test.reshape(10000, 784)\n",
        "x_train = x_train.astype('float32')\n",
        "x_test = x_test.astype('float32')\n",
        "\n",
        "# normalizing the data to help with the training\n",
        "x_train_normalized = x_train / 255.0\n",
        "x_test_normalized = x_test / 255.0\n",
        "\n",
        "# print the final input shape ready for training\n",
        "print( x_train.shape)\n",
        "print( x_test.shape)"
      ],
      "execution_count": null,
      "outputs": [
        {
          "output_type": "stream",
          "text": [
            "X_train shape (60000, 28, 28)\n",
            "y_train shape (60000,)\n",
            "X_test shape (10000, 28, 28)\n",
            "y_test shape (10000,)\n",
            "(60000, 784)\n",
            "(10000, 784)\n"
          ],
          "name": "stdout"
        }
      ]
    },
    {
      "cell_type": "code",
      "metadata": {
        "colab": {
          "base_uri": "https://localhost:8080/"
        },
        "id": "Uu1iiIrk46kI",
        "outputId": "6d734696-57f3-49d8-de84-1ef1997e6a29"
      },
      "source": [
        "print(np.unique(y_train, return_counts=True))"
      ],
      "execution_count": null,
      "outputs": [
        {
          "output_type": "stream",
          "text": [
            "(array([0, 1, 2, 3, 4, 5, 6, 7, 8, 9], dtype=uint8), array([5923, 6742, 5958, 6131, 5842, 5421, 5918, 6265, 5851, 5949]))\n"
          ],
          "name": "stdout"
        }
      ]
    },
    {
      "cell_type": "code",
      "metadata": {
        "colab": {
          "base_uri": "https://localhost:8080/"
        },
        "id": "DQjz0au_4-gg",
        "outputId": "08efb077-dd72-491b-d20a-40b00bc85635"
      },
      "source": [
        "#@title Define the plotting function\n",
        "def plot_curve(epochs, hist, list_of_metrics):\n",
        "  \"\"\"Plot a curve of one or more classification metrics vs. epoch.\"\"\"  \n",
        "  # list_of_metrics should be one of the names shown in:\n",
        "  # https://www.tensorflow.org/tutorials/structured_data/imbalanced_data#define_the_model_and_metrics  \n",
        "\n",
        "  plt.figure()\n",
        "  plt.xlabel(\"Epoch\")\n",
        "  plt.ylabel(\"Value\")\n",
        "\n",
        "  for m in list_of_metrics:\n",
        "    x = hist[m]\n",
        "    plt.plot(epochs[1:], x[1:], label=m)\n",
        "\n",
        "  plt.legend()\n",
        "\n",
        "print(\"Loaded the plot_curve function.\")"
      ],
      "execution_count": null,
      "outputs": [
        {
          "output_type": "stream",
          "text": [
            "Loaded the plot_curve function.\n"
          ],
          "name": "stdout"
        }
      ]
    },
    {
      "cell_type": "code",
      "metadata": {
        "id": "GMcu2hPdokiW"
      },
      "source": [
        "def create_model(my_learning_rate):\n",
        "  \"\"\"Create and compile a deep neural net.\"\"\"\n",
        "  \n",
        "  # All models in this course are sequential.\n",
        "  model = tf.keras.models.Sequential()\n",
        "\n",
        "  # The features are stored in a two-dimensional 28X28 array. \n",
        "  # Flatten that two-dimensional array into a a one-dimensional \n",
        "  # 784-element array.\n",
        "  model.add(tf.keras.layers.Flatten(input_shape=(28, 28)))\n",
        "\n",
        "  # Define the first hidden layer.   \n",
        "  model.add(tf.keras.layers.Dense(units=32, activation='swish'))\n",
        "  \n",
        "  # Define a dropout regularization layer. \n",
        "  model.add(tf.keras.layers.Dropout(rate=0.2))\n",
        "\n",
        "  # Define the output layer. The units parameter is set to 10 because\n",
        "  # the model must choose among 10 possible output values (representing\n",
        "  # the digits from 0 to 9, inclusive).\n",
        "  #\n",
        "  # Don't change this layer.\n",
        "  model.add(tf.keras.layers.Dense(units=10, activation='softmax'))     \n",
        "                           \n",
        "  # Construct the layers into a model that TensorFlow can execute.  \n",
        "  # Notice that the loss function for multi-class classification\n",
        "  # is different than the loss function for binary classification.  \n",
        "  model.compile(optimizer=tf.keras.optimizers.Adam(lr=my_learning_rate),\n",
        "                loss=\"sparse_categorical_crossentropy\",\n",
        "                metrics=['accuracy'])\n",
        "  \n",
        "  return model    \n",
        "\n",
        "\n",
        "def train_model(model, train_features, train_label, epochs,\n",
        "                batch_size=None, validation_split=0.1):\n",
        "  \"\"\"Train the model by feeding it data.\"\"\"\n",
        "\n",
        "  history = model.fit(x=train_features, y=train_label, batch_size=batch_size,\n",
        "                      epochs=epochs, shuffle=True, \n",
        "                      validation_split=validation_split)\n",
        " \n",
        "  # To track the progression of training, gather a snapshot\n",
        "  # of the model's metrics at each epoch. \n",
        "  epochs = history.epoch\n",
        "  hist = pd.DataFrame(history.history)\n",
        "\n",
        "  return epochs, hist    "
      ],
      "execution_count": null,
      "outputs": []
    },
    {
      "cell_type": "code",
      "metadata": {
        "colab": {
          "base_uri": "https://localhost:8080/",
          "height": 1000
        },
        "id": "2pSud1q_oqOq",
        "outputId": "4391e8f8-d7a7-4244-dc72-40d2240ec3b8"
      },
      "source": [
        "\n",
        "learning_rate = 0.003\n",
        "epochs = 50\n",
        "batch_size = 4000\n",
        "validation_split = 0.2\n",
        "\n",
        "my_model = create_model(learning_rate)\n",
        "\n",
        "# Train the model on the normalized training set.\n",
        "epochs, hist = train_model(my_model, x_train_normalized, y_train, \n",
        "                           epochs, batch_size, validation_split)\n",
        "\n",
        "list_of_metrics_to_plot = ['accuracy']\n",
        "plot_curve(epochs, hist, list_of_metrics_to_plot)\n",
        "\n",
        "# Evaluate against the test set.\n",
        "print(\"\\n Evaluate the new model against the test set:\")\n",
        "my_model.evaluate(x=x_test_normalized, y=y_test, batch_size=batch_size)"
      ],
      "execution_count": null,
      "outputs": [
        {
          "output_type": "stream",
          "text": [
            "Epoch 1/50\n",
            "WARNING:tensorflow:Model was constructed with shape (None, 28, 28) for input KerasTensor(type_spec=TensorSpec(shape=(None, 28, 28), dtype=tf.float32, name='flatten_input'), name='flatten_input', description=\"created by layer 'flatten_input'\"), but it was called on an input with incompatible shape (4000, 784).\n",
            "WARNING:tensorflow:Model was constructed with shape (None, 28, 28) for input KerasTensor(type_spec=TensorSpec(shape=(None, 28, 28), dtype=tf.float32, name='flatten_input'), name='flatten_input', description=\"created by layer 'flatten_input'\"), but it was called on an input with incompatible shape (4000, 784).\n",
            "12/12 [==============================] - ETA: 0s - loss: 1.9923 - accuracy: 0.3504WARNING:tensorflow:Model was constructed with shape (None, 28, 28) for input KerasTensor(type_spec=TensorSpec(shape=(None, 28, 28), dtype=tf.float32, name='flatten_input'), name='flatten_input', description=\"created by layer 'flatten_input'\"), but it was called on an input with incompatible shape (4000, 784).\n",
            "12/12 [==============================] - 1s 70ms/step - loss: 1.9670 - accuracy: 0.3635 - val_loss: 0.8960 - val_accuracy: 0.7969\n",
            "Epoch 2/50\n",
            "12/12 [==============================] - 0s 32ms/step - loss: 0.8863 - accuracy: 0.7444 - val_loss: 0.4700 - val_accuracy: 0.8742\n",
            "Epoch 3/50\n",
            "12/12 [==============================] - 0s 31ms/step - loss: 0.5925 - accuracy: 0.8220 - val_loss: 0.3827 - val_accuracy: 0.8959\n",
            "Epoch 4/50\n",
            "12/12 [==============================] - 0s 32ms/step - loss: 0.4813 - accuracy: 0.8594 - val_loss: 0.3378 - val_accuracy: 0.9093\n",
            "Epoch 5/50\n",
            "12/12 [==============================] - 0s 31ms/step - loss: 0.4283 - accuracy: 0.8773 - val_loss: 0.3045 - val_accuracy: 0.9157\n",
            "Epoch 6/50\n",
            "12/12 [==============================] - 0s 32ms/step - loss: 0.3889 - accuracy: 0.8891 - val_loss: 0.2817 - val_accuracy: 0.9219\n",
            "Epoch 7/50\n",
            "12/12 [==============================] - 0s 31ms/step - loss: 0.3600 - accuracy: 0.8962 - val_loss: 0.2645 - val_accuracy: 0.9265\n",
            "Epoch 8/50\n",
            "12/12 [==============================] - 0s 29ms/step - loss: 0.3408 - accuracy: 0.9052 - val_loss: 0.2501 - val_accuracy: 0.9290\n",
            "Epoch 9/50\n",
            "12/12 [==============================] - 0s 32ms/step - loss: 0.3260 - accuracy: 0.9067 - val_loss: 0.2386 - val_accuracy: 0.9328\n",
            "Epoch 10/50\n",
            "12/12 [==============================] - 0s 32ms/step - loss: 0.3116 - accuracy: 0.9112 - val_loss: 0.2282 - val_accuracy: 0.9367\n",
            "Epoch 11/50\n",
            "12/12 [==============================] - 0s 31ms/step - loss: 0.2974 - accuracy: 0.9152 - val_loss: 0.2190 - val_accuracy: 0.9394\n",
            "Epoch 12/50\n",
            "12/12 [==============================] - 0s 42ms/step - loss: 0.2842 - accuracy: 0.9168 - val_loss: 0.2120 - val_accuracy: 0.9412\n",
            "Epoch 13/50\n",
            "12/12 [==============================] - 0s 31ms/step - loss: 0.2722 - accuracy: 0.9220 - val_loss: 0.2041 - val_accuracy: 0.9431\n",
            "Epoch 14/50\n",
            "12/12 [==============================] - 0s 31ms/step - loss: 0.2645 - accuracy: 0.9253 - val_loss: 0.1979 - val_accuracy: 0.9455\n",
            "Epoch 15/50\n",
            "12/12 [==============================] - 0s 32ms/step - loss: 0.2567 - accuracy: 0.9272 - val_loss: 0.1921 - val_accuracy: 0.9468\n",
            "Epoch 16/50\n",
            "12/12 [==============================] - 0s 30ms/step - loss: 0.2522 - accuracy: 0.9269 - val_loss: 0.1867 - val_accuracy: 0.9482\n",
            "Epoch 17/50\n",
            "12/12 [==============================] - 0s 32ms/step - loss: 0.2435 - accuracy: 0.9295 - val_loss: 0.1817 - val_accuracy: 0.9496\n",
            "Epoch 18/50\n",
            "12/12 [==============================] - 0s 32ms/step - loss: 0.2361 - accuracy: 0.9322 - val_loss: 0.1784 - val_accuracy: 0.9490\n",
            "Epoch 19/50\n",
            "12/12 [==============================] - 0s 29ms/step - loss: 0.2340 - accuracy: 0.9331 - val_loss: 0.1745 - val_accuracy: 0.9513\n",
            "Epoch 20/50\n",
            "12/12 [==============================] - 0s 32ms/step - loss: 0.2227 - accuracy: 0.9366 - val_loss: 0.1715 - val_accuracy: 0.9516\n",
            "Epoch 21/50\n",
            "12/12 [==============================] - 0s 30ms/step - loss: 0.2240 - accuracy: 0.9339 - val_loss: 0.1693 - val_accuracy: 0.9517\n",
            "Epoch 22/50\n",
            "12/12 [==============================] - 0s 35ms/step - loss: 0.2127 - accuracy: 0.9376 - val_loss: 0.1656 - val_accuracy: 0.9526\n",
            "Epoch 23/50\n",
            "12/12 [==============================] - 0s 29ms/step - loss: 0.2144 - accuracy: 0.9382 - val_loss: 0.1623 - val_accuracy: 0.9537\n",
            "Epoch 24/50\n",
            "12/12 [==============================] - 0s 32ms/step - loss: 0.2060 - accuracy: 0.9411 - val_loss: 0.1601 - val_accuracy: 0.9538\n",
            "Epoch 25/50\n",
            "12/12 [==============================] - 0s 30ms/step - loss: 0.1983 - accuracy: 0.9431 - val_loss: 0.1579 - val_accuracy: 0.9548\n",
            "Epoch 26/50\n",
            "12/12 [==============================] - 0s 31ms/step - loss: 0.2022 - accuracy: 0.9423 - val_loss: 0.1555 - val_accuracy: 0.9557\n",
            "Epoch 27/50\n",
            "12/12 [==============================] - 0s 30ms/step - loss: 0.1921 - accuracy: 0.9444 - val_loss: 0.1543 - val_accuracy: 0.9563\n",
            "Epoch 28/50\n",
            "12/12 [==============================] - 0s 31ms/step - loss: 0.1896 - accuracy: 0.9445 - val_loss: 0.1511 - val_accuracy: 0.9574\n",
            "Epoch 29/50\n",
            "12/12 [==============================] - 0s 31ms/step - loss: 0.1892 - accuracy: 0.9445 - val_loss: 0.1507 - val_accuracy: 0.9578\n",
            "Epoch 30/50\n",
            "12/12 [==============================] - 0s 30ms/step - loss: 0.1849 - accuracy: 0.9473 - val_loss: 0.1487 - val_accuracy: 0.9581\n",
            "Epoch 31/50\n",
            "12/12 [==============================] - 0s 31ms/step - loss: 0.1828 - accuracy: 0.9470 - val_loss: 0.1476 - val_accuracy: 0.9588\n",
            "Epoch 32/50\n",
            "12/12 [==============================] - 0s 31ms/step - loss: 0.1806 - accuracy: 0.9473 - val_loss: 0.1468 - val_accuracy: 0.9590\n",
            "Epoch 33/50\n",
            "12/12 [==============================] - 0s 32ms/step - loss: 0.1792 - accuracy: 0.9464 - val_loss: 0.1454 - val_accuracy: 0.9583\n",
            "Epoch 34/50\n",
            "12/12 [==============================] - 0s 32ms/step - loss: 0.1811 - accuracy: 0.9463 - val_loss: 0.1442 - val_accuracy: 0.9589\n",
            "Epoch 35/50\n",
            "12/12 [==============================] - 0s 30ms/step - loss: 0.1726 - accuracy: 0.9513 - val_loss: 0.1416 - val_accuracy: 0.9603\n",
            "Epoch 36/50\n",
            "12/12 [==============================] - 0s 30ms/step - loss: 0.1710 - accuracy: 0.9495 - val_loss: 0.1408 - val_accuracy: 0.9608\n",
            "Epoch 37/50\n",
            "12/12 [==============================] - 0s 31ms/step - loss: 0.1684 - accuracy: 0.9519 - val_loss: 0.1401 - val_accuracy: 0.9611\n",
            "Epoch 38/50\n",
            "12/12 [==============================] - 1s 43ms/step - loss: 0.1618 - accuracy: 0.9519 - val_loss: 0.1390 - val_accuracy: 0.9600\n",
            "Epoch 39/50\n",
            "12/12 [==============================] - 0s 32ms/step - loss: 0.1631 - accuracy: 0.9516 - val_loss: 0.1396 - val_accuracy: 0.9603\n",
            "Epoch 40/50\n",
            "12/12 [==============================] - 0s 31ms/step - loss: 0.1655 - accuracy: 0.9505 - val_loss: 0.1364 - val_accuracy: 0.9615\n",
            "Epoch 41/50\n",
            "12/12 [==============================] - 0s 32ms/step - loss: 0.1620 - accuracy: 0.9530 - val_loss: 0.1356 - val_accuracy: 0.9613\n",
            "Epoch 42/50\n",
            "12/12 [==============================] - 0s 31ms/step - loss: 0.1653 - accuracy: 0.9510 - val_loss: 0.1353 - val_accuracy: 0.9612\n",
            "Epoch 43/50\n",
            "12/12 [==============================] - 0s 31ms/step - loss: 0.1589 - accuracy: 0.9535 - val_loss: 0.1342 - val_accuracy: 0.9612\n",
            "Epoch 44/50\n",
            "12/12 [==============================] - 0s 31ms/step - loss: 0.1578 - accuracy: 0.9531 - val_loss: 0.1354 - val_accuracy: 0.9613\n",
            "Epoch 45/50\n",
            "12/12 [==============================] - 0s 30ms/step - loss: 0.1547 - accuracy: 0.9547 - val_loss: 0.1350 - val_accuracy: 0.9617\n",
            "Epoch 46/50\n",
            "12/12 [==============================] - 0s 31ms/step - loss: 0.1549 - accuracy: 0.9541 - val_loss: 0.1337 - val_accuracy: 0.9616\n",
            "Epoch 47/50\n",
            "12/12 [==============================] - 0s 31ms/step - loss: 0.1554 - accuracy: 0.9526 - val_loss: 0.1331 - val_accuracy: 0.9615\n",
            "Epoch 48/50\n",
            "12/12 [==============================] - 0s 30ms/step - loss: 0.1530 - accuracy: 0.9552 - val_loss: 0.1323 - val_accuracy: 0.9615\n",
            "Epoch 49/50\n",
            "12/12 [==============================] - 0s 34ms/step - loss: 0.1498 - accuracy: 0.9555 - val_loss: 0.1318 - val_accuracy: 0.9615\n",
            "Epoch 50/50\n",
            "12/12 [==============================] - 0s 31ms/step - loss: 0.1531 - accuracy: 0.9545 - val_loss: 0.1319 - val_accuracy: 0.9625\n",
            "\n",
            " Evaluate the new model against the test set:\n",
            "WARNING:tensorflow:Model was constructed with shape (None, 28, 28) for input KerasTensor(type_spec=TensorSpec(shape=(None, 28, 28), dtype=tf.float32, name='flatten_input'), name='flatten_input', description=\"created by layer 'flatten_input'\"), but it was called on an input with incompatible shape (None, 784).\n",
            "3/3 [==============================] - 0s 8ms/step - loss: 0.1279 - accuracy: 0.9637\n"
          ],
          "name": "stdout"
        },
        {
          "output_type": "execute_result",
          "data": {
            "text/plain": [
              "[0.12791691720485687, 0.963699996471405]"
            ]
          },
          "metadata": {
            "tags": []
          },
          "execution_count": 11
        },
        {
          "output_type": "display_data",
          "data": {
            "image/png": "[encoded data removed]",
            "text/plain": [
              "<Figure size 432x288 with 1 Axes>"
            ]
          },
          "metadata": {
            "tags": [],
            "needs_background": "light"
          }
        }
      ]
    }
  ]
}